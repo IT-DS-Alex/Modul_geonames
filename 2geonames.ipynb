{
 "cells": [
  {
   "cell_type": "markdown",
   "id": "51c5288c",
   "metadata": {},
   "source": [
    "## Описание проекта\n",
    "\n",
    "### Цель:\n",
    "\n",
    "- Сопоставление произвольных гео названий с унифицированными именами geonames для внутреннего использования Карьерным центром\n",
    "\n",
    "### Задачи:\n",
    "\n",
    "- Создать решение для подбора наиболее подходящих названий с geonames. Например Ереван -> Yerevan\n",
    "\n",
    "- На примере РФ и стран наиболее популярных для релокации - Беларусь, Армения, Казахстан, Кыргызстан, Турция, Сербия. Города с населением от 15000 человек (с возможностью масштабирования на сервере заказчика)\n",
    "\n",
    "- Возвращаемые поля geonameid, name, region, country, cosine similarity\n",
    "\n",
    "- формат данных на выходе: список словарей, например [{dict_1}, {dict_2}, …. {dict_n}] где словарь - одна запись с указанными полями\n"
   ]
  },
  {
   "cell_type": "markdown",
   "id": "f3c1df3a",
   "metadata": {},
   "source": [
    "### Описание данных\n",
    "\n",
    "*Используемые таблицы с geonames:* \n",
    "\n",
    "\n",
    "- admin1CodesASCII\n",
    "- alternateNamesV2\n",
    "- cities15000\n",
    "- countryInfo\n",
    "\n",
    "*Дополнительно:*\n",
    "- при необходимости любые другие открытые данные\n",
    "- таблицы geonames можно скачать здесь http://download.geonames.org/export/dump/\n"
   ]
  },
  {
   "cell_type": "markdown",
   "id": "45e65e22",
   "metadata": {},
   "source": [
    "Установка дополнительных инструментов и библиотек."
   ]
  },
  {
   "cell_type": "code",
   "execution_count": null,
   "id": "566e30c6",
   "metadata": {},
   "outputs": [],
   "source": [
    "pip install SQLAlchemy"
   ]
  },
  {
   "cell_type": "code",
   "execution_count": null,
   "id": "3d23181f",
   "metadata": {},
   "outputs": [],
   "source": [
    "pip install psycopg2"
   ]
  },
  {
   "cell_type": "code",
   "execution_count": 27,
   "id": "57d124d5",
   "metadata": {},
   "outputs": [
    {
     "name": "stdout",
     "output_type": "stream",
     "text": [
      "Requirement already satisfied: sentence-transformers in c:\\users\\family\\anaconda3\\lib\\site-packages (2.2.2)Note: you may need to restart the kernel to use updated packages.\n",
      "\n",
      "Requirement already satisfied: nltk in c:\\users\\family\\anaconda3\\lib\\site-packages (from sentence-transformers) (3.7)\n",
      "Requirement already satisfied: sentencepiece in c:\\users\\family\\anaconda3\\lib\\site-packages (from sentence-transformers) (0.1.99)\n",
      "Requirement already satisfied: torch>=1.6.0 in c:\\users\\family\\anaconda3\\lib\\site-packages (from sentence-transformers) (2.0.1)\n",
      "Requirement already satisfied: huggingface-hub>=0.4.0 in c:\\users\\family\\anaconda3\\lib\\site-packages (from sentence-transformers) (0.19.4)\n",
      "Requirement already satisfied: transformers<5.0.0,>=4.6.0 in c:\\users\\family\\anaconda3\\lib\\site-packages (from sentence-transformers) (4.35.2)\n",
      "Requirement already satisfied: numpy in c:\\users\\family\\anaconda3\\lib\\site-packages (from sentence-transformers) (1.21.5)\n",
      "Requirement already satisfied: torchvision in c:\\users\\family\\anaconda3\\lib\\site-packages (from sentence-transformers) (0.15.2)\n",
      "Requirement already satisfied: scikit-learn in c:\\users\\family\\anaconda3\\lib\\site-packages (from sentence-transformers) (1.0.2)\n",
      "Requirement already satisfied: scipy in c:\\users\\family\\anaconda3\\lib\\site-packages (from sentence-transformers) (1.7.3)\n",
      "Requirement already satisfied: tqdm in c:\\users\\family\\anaconda3\\lib\\site-packages (from sentence-transformers) (4.64.0)\n",
      "Requirement already satisfied: typing-extensions>=3.7.4.3 in c:\\users\\family\\anaconda3\\lib\\site-packages (from huggingface-hub>=0.4.0->sentence-transformers) (4.8.0)\n",
      "Requirement already satisfied: filelock in c:\\users\\family\\anaconda3\\lib\\site-packages (from huggingface-hub>=0.4.0->sentence-transformers) (3.6.0)\n",
      "Requirement already satisfied: packaging>=20.9 in c:\\users\\family\\anaconda3\\lib\\site-packages (from huggingface-hub>=0.4.0->sentence-transformers) (21.3)\n",
      "Requirement already satisfied: pyyaml>=5.1 in c:\\users\\family\\anaconda3\\lib\\site-packages (from huggingface-hub>=0.4.0->sentence-transformers) (6.0)\n",
      "Requirement already satisfied: requests in c:\\users\\family\\anaconda3\\lib\\site-packages (from huggingface-hub>=0.4.0->sentence-transformers) (2.27.1)\n",
      "Requirement already satisfied: fsspec>=2023.5.0 in c:\\users\\family\\anaconda3\\lib\\site-packages (from huggingface-hub>=0.4.0->sentence-transformers) (2023.12.1)\n",
      "Requirement already satisfied: pyparsing!=3.0.5,>=2.0.2 in c:\\users\\family\\anaconda3\\lib\\site-packages (from packaging>=20.9->huggingface-hub>=0.4.0->sentence-transformers) (3.0.4)\n",
      "Requirement already satisfied: sympy in c:\\users\\family\\anaconda3\\lib\\site-packages (from torch>=1.6.0->sentence-transformers) (1.10.1)\n",
      "Requirement already satisfied: networkx in c:\\users\\family\\anaconda3\\lib\\site-packages (from torch>=1.6.0->sentence-transformers) (2.7.1)\n",
      "Requirement already satisfied: jinja2 in c:\\users\\family\\anaconda3\\lib\\site-packages (from torch>=1.6.0->sentence-transformers) (2.11.3)\n",
      "Requirement already satisfied: colorama in c:\\users\\family\\anaconda3\\lib\\site-packages (from tqdm->sentence-transformers) (0.4.4)\n",
      "Requirement already satisfied: safetensors>=0.3.1 in c:\\users\\family\\anaconda3\\lib\\site-packages (from transformers<5.0.0,>=4.6.0->sentence-transformers) (0.4.1)\n",
      "Requirement already satisfied: tokenizers<0.19,>=0.14 in c:\\users\\family\\anaconda3\\lib\\site-packages (from transformers<5.0.0,>=4.6.0->sentence-transformers) (0.15.0)\n",
      "Requirement already satisfied: regex!=2019.12.17 in c:\\users\\family\\anaconda3\\lib\\site-packages (from transformers<5.0.0,>=4.6.0->sentence-transformers) (2022.3.15)\n",
      "Requirement already satisfied: MarkupSafe>=0.23 in c:\\users\\family\\anaconda3\\lib\\site-packages (from jinja2->torch>=1.6.0->sentence-transformers) (2.0.1)\n",
      "Requirement already satisfied: click in c:\\users\\family\\anaconda3\\lib\\site-packages (from nltk->sentence-transformers) (8.0.4)\n",
      "Requirement already satisfied: joblib in c:\\users\\family\\anaconda3\\lib\\site-packages (from nltk->sentence-transformers) (1.1.0)\n",
      "Requirement already satisfied: idna<4,>=2.5 in c:\\users\\family\\anaconda3\\lib\\site-packages (from requests->huggingface-hub>=0.4.0->sentence-transformers) (3.3)\n",
      "Requirement already satisfied: certifi>=2017.4.17 in c:\\users\\family\\anaconda3\\lib\\site-packages (from requests->huggingface-hub>=0.4.0->sentence-transformers) (2023.11.17)\n",
      "Requirement already satisfied: urllib3<1.27,>=1.21.1 in c:\\users\\family\\anaconda3\\lib\\site-packages (from requests->huggingface-hub>=0.4.0->sentence-transformers) (1.26.9)\n",
      "Requirement already satisfied: charset-normalizer~=2.0.0 in c:\\users\\family\\anaconda3\\lib\\site-packages (from requests->huggingface-hub>=0.4.0->sentence-transformers) (2.0.4)\n",
      "Requirement already satisfied: threadpoolctl>=2.0.0 in c:\\users\\family\\anaconda3\\lib\\site-packages (from scikit-learn->sentence-transformers) (2.2.0)\n",
      "Requirement already satisfied: mpmath>=0.19 in c:\\users\\family\\anaconda3\\lib\\site-packages (from sympy->torch>=1.6.0->sentence-transformers) (1.2.1)\n",
      "Requirement already satisfied: pillow!=8.3.*,>=5.3.0 in c:\\users\\family\\anaconda3\\lib\\site-packages (from torchvision->sentence-transformers) (10.0.1)\n"
     ]
    }
   ],
   "source": [
    "pip install -U sentence-transformers"
   ]
  },
  {
   "cell_type": "code",
   "execution_count": 42,
   "id": "de3bdc76",
   "metadata": {},
   "outputs": [
    {
     "name": "stdout",
     "output_type": "stream",
     "text": [
      "Collecting translate\n",
      "  Using cached translate-3.6.1-py2.py3-none-any.whl (12 kB)\n",
      "Collecting libretranslatepy==2.1.1\n",
      "  Using cached libretranslatepy-2.1.1-py3-none-any.whl (3.2 kB)\n",
      "Requirement already satisfied: click in c:\\users\\family\\anaconda3\\lib\\site-packages (from translate) (8.0.4)\n",
      "Requirement already satisfied: lxml in c:\\users\\family\\anaconda3\\lib\\site-packages (from translate) (4.8.0)\n",
      "Requirement already satisfied: requests in c:\\users\\family\\anaconda3\\lib\\site-packages (from translate) (2.27.1)\n",
      "Requirement already satisfied: colorama in c:\\users\\family\\anaconda3\\lib\\site-packages (from click->translate) (0.4.4)\n",
      "Requirement already satisfied: charset-normalizer~=2.0.0 in c:\\users\\family\\anaconda3\\lib\\site-packages (from requests->translate) (2.0.4)\n",
      "Requirement already satisfied: idna<4,>=2.5 in c:\\users\\family\\anaconda3\\lib\\site-packages (from requests->translate) (3.3)\n",
      "Requirement already satisfied: certifi>=2017.4.17 in c:\\users\\family\\anaconda3\\lib\\site-packages (from requests->translate) (2023.11.17)\n",
      "Requirement already satisfied: urllib3<1.27,>=1.21.1 in c:\\users\\family\\anaconda3\\lib\\site-packages (from requests->translate) (1.26.9)\n",
      "Installing collected packages: libretranslatepy, translate\n",
      "Successfully installed libretranslatepy-2.1.1 translate-3.6.1\n",
      "Note: you may need to restart the kernel to use updated packages.\n"
     ]
    }
   ],
   "source": [
    "pip install translate"
   ]
  },
  {
   "cell_type": "code",
   "execution_count": 60,
   "id": "602419fe",
   "metadata": {},
   "outputs": [
    {
     "name": "stdout",
     "output_type": "stream",
     "text": [
      "Collecting pyarrow\n",
      "  Downloading pyarrow-14.0.1-cp39-cp39-win_amd64.whl (24.6 MB)\n",
      "Requirement already satisfied: numpy>=1.16.6 in c:\\users\\family\\anaconda3\\lib\\site-packages (from pyarrow) (1.21.5)\n",
      "Installing collected packages: pyarrow\n",
      "Successfully installed pyarrow-14.0.1\n",
      "Note: you may need to restart the kernel to use updated packages.\n"
     ]
    }
   ],
   "source": [
    "pip install pyarrow"
   ]
  },
  {
   "cell_type": "markdown",
   "id": "2b17c29d",
   "metadata": {},
   "source": [
    "Устанавливаем подключение к базе из тетрадки:"
   ]
  },
  {
   "cell_type": "code",
   "execution_count": 1,
   "id": "a1bd1046",
   "metadata": {},
   "outputs": [
    {
     "name": "stderr",
     "output_type": "stream",
     "text": [
      "C:\\Users\\Family\\AppData\\Local\\Temp\\ipykernel_10680\\3560428334.py:14: SADeprecationWarning: Calling URL() directly is deprecated and will be disabled in a future release.  The public constructor for URL is now the URL.create() method.\n",
      "  engine = create_engine(URL(**DATABASE))\n"
     ]
    }
   ],
   "source": [
    "from sqlalchemy import create_engine\n",
    "from sqlalchemy.engine.url import URL\n",
    "\n",
    "DATABASE = {\n",
    "    'drivername': 'postgresql',\n",
    "    'username': 'postgres', \n",
    "    'password': '15112005', \n",
    "    'host': 'localhost',\n",
    "    'port': 5433,\n",
    "    'database': 'postgres',\n",
    "    'query': {}\n",
    "}  \n",
    "\n",
    "engine = create_engine(URL(**DATABASE))\n"
   ]
  },
  {
   "cell_type": "markdown",
   "id": "7b6ca297",
   "metadata": {},
   "source": [
    "С помощью библиотеки pandas начинаем работать с небходимыми данными."
   ]
  },
  {
   "cell_type": "code",
   "execution_count": 2,
   "id": "399e4f1b",
   "metadata": {},
   "outputs": [],
   "source": [
    "import pandas as pd\n",
    "import os\n",
    "import logging\n",
    "import torch\n",
    "\n",
    "from translate import Translator\n",
    "from sentence_transformers import SentenceTransformer, util, InputExample, losses, evaluation\n",
    "from torch.utils.data import DataLoader"
   ]
  },
  {
   "cell_type": "code",
   "execution_count": 3,
   "id": "bb884368",
   "metadata": {},
   "outputs": [],
   "source": [
    "df1 = pd.read_csv('C:\\\\Users\\\\Family\\\\Downloads\\\\admin1CodesASCII.txt', delimiter= '\\t', low_memory=False, header=None,\n",
    "                 names = ['code', 'name_reg', 'name_ascii', 'geonameid'],\n",
    "                 usecols = ['code','geonameid','name_reg'])"
   ]
  },
  {
   "cell_type": "code",
   "execution_count": 4,
   "id": "eb99792b",
   "metadata": {},
   "outputs": [],
   "source": [
    "df1['country_code'] = df1.code.str.split('.').str[0]"
   ]
  },
  {
   "cell_type": "code",
   "execution_count": 5,
   "id": "575d4873",
   "metadata": {
    "scrolled": true
   },
   "outputs": [
    {
     "name": "stdout",
     "output_type": "stream",
     "text": [
      "<class 'pandas.core.frame.DataFrame'>\n",
      "RangeIndex: 3880 entries, 0 to 3879\n",
      "Data columns (total 4 columns):\n",
      " #   Column        Non-Null Count  Dtype \n",
      "---  ------        --------------  ----- \n",
      " 0   code          3880 non-null   object\n",
      " 1   name_reg      3880 non-null   object\n",
      " 2   geonameid     3880 non-null   int64 \n",
      " 3   country_code  3880 non-null   object\n",
      "dtypes: int64(1), object(3)\n",
      "memory usage: 121.4+ KB\n"
     ]
    }
   ],
   "source": [
    "df1.info()"
   ]
  },
  {
   "cell_type": "code",
   "execution_count": 6,
   "id": "da9a8d18",
   "metadata": {},
   "outputs": [
    {
     "data": {
      "text/html": [
       "<div>\n",
       "<style scoped>\n",
       "    .dataframe tbody tr th:only-of-type {\n",
       "        vertical-align: middle;\n",
       "    }\n",
       "\n",
       "    .dataframe tbody tr th {\n",
       "        vertical-align: top;\n",
       "    }\n",
       "\n",
       "    .dataframe thead th {\n",
       "        text-align: right;\n",
       "    }\n",
       "</style>\n",
       "<table border=\"1\" class=\"dataframe\">\n",
       "  <thead>\n",
       "    <tr style=\"text-align: right;\">\n",
       "      <th></th>\n",
       "      <th>code</th>\n",
       "      <th>name_reg</th>\n",
       "      <th>geonameid</th>\n",
       "      <th>country_code</th>\n",
       "    </tr>\n",
       "  </thead>\n",
       "  <tbody>\n",
       "    <tr>\n",
       "      <th>0</th>\n",
       "      <td>AD.06</td>\n",
       "      <td>Sant Julià de Loria</td>\n",
       "      <td>3039162</td>\n",
       "      <td>AD</td>\n",
       "    </tr>\n",
       "    <tr>\n",
       "      <th>1</th>\n",
       "      <td>AD.05</td>\n",
       "      <td>Ordino</td>\n",
       "      <td>3039676</td>\n",
       "      <td>AD</td>\n",
       "    </tr>\n",
       "    <tr>\n",
       "      <th>2</th>\n",
       "      <td>AD.04</td>\n",
       "      <td>La Massana</td>\n",
       "      <td>3040131</td>\n",
       "      <td>AD</td>\n",
       "    </tr>\n",
       "    <tr>\n",
       "      <th>3</th>\n",
       "      <td>AD.03</td>\n",
       "      <td>Encamp</td>\n",
       "      <td>3040684</td>\n",
       "      <td>AD</td>\n",
       "    </tr>\n",
       "    <tr>\n",
       "      <th>4</th>\n",
       "      <td>AD.02</td>\n",
       "      <td>Canillo</td>\n",
       "      <td>3041203</td>\n",
       "      <td>AD</td>\n",
       "    </tr>\n",
       "  </tbody>\n",
       "</table>\n",
       "</div>"
      ],
      "text/plain": [
       "    code             name_reg  geonameid country_code\n",
       "0  AD.06  Sant Julià de Loria    3039162           AD\n",
       "1  AD.05               Ordino    3039676           AD\n",
       "2  AD.04           La Massana    3040131           AD\n",
       "3  AD.03               Encamp    3040684           AD\n",
       "4  AD.02              Canillo    3041203           AD"
      ]
     },
     "execution_count": 6,
     "metadata": {},
     "output_type": "execute_result"
    }
   ],
   "source": [
    "df1.head()"
   ]
  },
  {
   "cell_type": "code",
   "execution_count": 13,
   "id": "948d0d94",
   "metadata": {},
   "outputs": [
    {
     "data": {
      "text/plain": [
       "880"
      ]
     },
     "execution_count": 13,
     "metadata": {},
     "output_type": "execute_result"
    }
   ],
   "source": [
    "df1.to_sql('admin1codes', con=engine)"
   ]
  },
  {
   "cell_type": "code",
   "execution_count": 5,
   "id": "de05a945",
   "metadata": {},
   "outputs": [
    {
     "data": {
      "text/html": [
       "<div>\n",
       "<style scoped>\n",
       "    .dataframe tbody tr th:only-of-type {\n",
       "        vertical-align: middle;\n",
       "    }\n",
       "\n",
       "    .dataframe tbody tr th {\n",
       "        vertical-align: top;\n",
       "    }\n",
       "\n",
       "    .dataframe thead th {\n",
       "        text-align: right;\n",
       "    }\n",
       "</style>\n",
       "<table border=\"1\" class=\"dataframe\">\n",
       "  <thead>\n",
       "    <tr style=\"text-align: right;\">\n",
       "      <th></th>\n",
       "      <th>index</th>\n",
       "      <th>code</th>\n",
       "      <th>name</th>\n",
       "      <th>name ascii</th>\n",
       "      <th>geonameid</th>\n",
       "    </tr>\n",
       "  </thead>\n",
       "  <tbody>\n",
       "    <tr>\n",
       "      <th>0</th>\n",
       "      <td>0</td>\n",
       "      <td>AD.06</td>\n",
       "      <td>Sant Julià de Loria</td>\n",
       "      <td>Sant Julia de Loria</td>\n",
       "      <td>3039162</td>\n",
       "    </tr>\n",
       "    <tr>\n",
       "      <th>1</th>\n",
       "      <td>1</td>\n",
       "      <td>AD.05</td>\n",
       "      <td>Ordino</td>\n",
       "      <td>Ordino</td>\n",
       "      <td>3039676</td>\n",
       "    </tr>\n",
       "    <tr>\n",
       "      <th>2</th>\n",
       "      <td>2</td>\n",
       "      <td>AD.04</td>\n",
       "      <td>La Massana</td>\n",
       "      <td>La Massana</td>\n",
       "      <td>3040131</td>\n",
       "    </tr>\n",
       "    <tr>\n",
       "      <th>3</th>\n",
       "      <td>3</td>\n",
       "      <td>AD.03</td>\n",
       "      <td>Encamp</td>\n",
       "      <td>Encamp</td>\n",
       "      <td>3040684</td>\n",
       "    </tr>\n",
       "    <tr>\n",
       "      <th>4</th>\n",
       "      <td>4</td>\n",
       "      <td>AD.02</td>\n",
       "      <td>Canillo</td>\n",
       "      <td>Canillo</td>\n",
       "      <td>3041203</td>\n",
       "    </tr>\n",
       "    <tr>\n",
       "      <th>5</th>\n",
       "      <td>5</td>\n",
       "      <td>AD.07</td>\n",
       "      <td>Andorra la Vella</td>\n",
       "      <td>Andorra la Vella</td>\n",
       "      <td>3041566</td>\n",
       "    </tr>\n",
       "    <tr>\n",
       "      <th>6</th>\n",
       "      <td>6</td>\n",
       "      <td>AD.08</td>\n",
       "      <td>Escaldes-Engordany</td>\n",
       "      <td>Escaldes-Engordany</td>\n",
       "      <td>3338529</td>\n",
       "    </tr>\n",
       "    <tr>\n",
       "      <th>7</th>\n",
       "      <td>7</td>\n",
       "      <td>AE.07</td>\n",
       "      <td>Imārat Umm al Qaywayn</td>\n",
       "      <td>Imarat Umm al Qaywayn</td>\n",
       "      <td>290595</td>\n",
       "    </tr>\n",
       "    <tr>\n",
       "      <th>8</th>\n",
       "      <td>8</td>\n",
       "      <td>AE.05</td>\n",
       "      <td>Raʼs al Khaymah</td>\n",
       "      <td>Imarat Ra's al Khaymah</td>\n",
       "      <td>291075</td>\n",
       "    </tr>\n",
       "    <tr>\n",
       "      <th>9</th>\n",
       "      <td>9</td>\n",
       "      <td>AE.03</td>\n",
       "      <td>Dubai</td>\n",
       "      <td>Dubai</td>\n",
       "      <td>292224</td>\n",
       "    </tr>\n",
       "  </tbody>\n",
       "</table>\n",
       "</div>"
      ],
      "text/plain": [
       "   index   code                   name              name ascii  geonameid\n",
       "0      0  AD.06    Sant Julià de Loria     Sant Julia de Loria    3039162\n",
       "1      1  AD.05                 Ordino                  Ordino    3039676\n",
       "2      2  AD.04             La Massana              La Massana    3040131\n",
       "3      3  AD.03                 Encamp                  Encamp    3040684\n",
       "4      4  AD.02                Canillo                 Canillo    3041203\n",
       "5      5  AD.07       Andorra la Vella        Andorra la Vella    3041566\n",
       "6      6  AD.08     Escaldes-Engordany      Escaldes-Engordany    3338529\n",
       "7      7  AE.07  Imārat Umm al Qaywayn   Imarat Umm al Qaywayn     290595\n",
       "8      8  AE.05        Raʼs al Khaymah  Imarat Ra's al Khaymah     291075\n",
       "9      9  AE.03                  Dubai                   Dubai     292224"
      ]
     },
     "execution_count": 5,
     "metadata": {},
     "output_type": "execute_result"
    }
   ],
   "source": [
    "query = 'SELECT * FROM admin1codes LIMIT 10'\n",
    "pd.read_sql_query(query, con=engine)"
   ]
  },
  {
   "cell_type": "code",
   "execution_count": 7,
   "id": "d0f4e698",
   "metadata": {},
   "outputs": [],
   "source": [
    "df2 = pd.read_csv('C:\\\\Users\\\\Family\\\\Downloads\\\\countryInfo.txt', delimiter= '\\t', low_memory=False, header=None, encoding='utf-8',\n",
    "                 names = ['country_code','iso_3','iso_numeric','fips','country','capital','area','population','continent','tld','currency_code','currency_name','phone','postal_code_format','postal_code_regex','languages','geonameid','neighbours','equivalent_fips_code'],\n",
    "                 usecols = ['country_code','geonameid','country']).dropna()"
   ]
  },
  {
   "cell_type": "code",
   "execution_count": 8,
   "id": "e459f2fb",
   "metadata": {},
   "outputs": [
    {
     "name": "stdout",
     "output_type": "stream",
     "text": [
      "<class 'pandas.core.frame.DataFrame'>\n",
      "Int64Index: 251 entries, 0 to 251\n",
      "Data columns (total 3 columns):\n",
      " #   Column        Non-Null Count  Dtype \n",
      "---  ------        --------------  ----- \n",
      " 0   country_code  251 non-null    object\n",
      " 1   country       251 non-null    object\n",
      " 2   geonameid     251 non-null    int64 \n",
      "dtypes: int64(1), object(2)\n",
      "memory usage: 7.8+ KB\n"
     ]
    }
   ],
   "source": [
    "df2.info()"
   ]
  },
  {
   "cell_type": "code",
   "execution_count": 10,
   "id": "4fe67ae9",
   "metadata": {},
   "outputs": [],
   "source": [
    "df2.to_sql('country_info', con=engine)"
   ]
  },
  {
   "cell_type": "code",
   "execution_count": 8,
   "id": "14a6ff6c",
   "metadata": {},
   "outputs": [
    {
     "data": {
      "text/html": [
       "<div>\n",
       "<style scoped>\n",
       "    .dataframe tbody tr th:only-of-type {\n",
       "        vertical-align: middle;\n",
       "    }\n",
       "\n",
       "    .dataframe tbody tr th {\n",
       "        vertical-align: top;\n",
       "    }\n",
       "\n",
       "    .dataframe thead th {\n",
       "        text-align: right;\n",
       "    }\n",
       "</style>\n",
       "<table border=\"1\" class=\"dataframe\">\n",
       "  <thead>\n",
       "    <tr style=\"text-align: right;\">\n",
       "      <th></th>\n",
       "      <th>index</th>\n",
       "      <th>country_code</th>\n",
       "      <th>country</th>\n",
       "      <th>geonameid</th>\n",
       "    </tr>\n",
       "  </thead>\n",
       "  <tbody>\n",
       "    <tr>\n",
       "      <th>0</th>\n",
       "      <td>0</td>\n",
       "      <td>AD</td>\n",
       "      <td>Andorra</td>\n",
       "      <td>3041565</td>\n",
       "    </tr>\n",
       "    <tr>\n",
       "      <th>1</th>\n",
       "      <td>1</td>\n",
       "      <td>AE</td>\n",
       "      <td>United Arab Emirates</td>\n",
       "      <td>290557</td>\n",
       "    </tr>\n",
       "    <tr>\n",
       "      <th>2</th>\n",
       "      <td>2</td>\n",
       "      <td>AF</td>\n",
       "      <td>Afghanistan</td>\n",
       "      <td>1149361</td>\n",
       "    </tr>\n",
       "    <tr>\n",
       "      <th>3</th>\n",
       "      <td>3</td>\n",
       "      <td>AG</td>\n",
       "      <td>Antigua and Barbuda</td>\n",
       "      <td>3576396</td>\n",
       "    </tr>\n",
       "    <tr>\n",
       "      <th>4</th>\n",
       "      <td>4</td>\n",
       "      <td>AI</td>\n",
       "      <td>Anguilla</td>\n",
       "      <td>3573511</td>\n",
       "    </tr>\n",
       "    <tr>\n",
       "      <th>5</th>\n",
       "      <td>5</td>\n",
       "      <td>AL</td>\n",
       "      <td>Albania</td>\n",
       "      <td>783754</td>\n",
       "    </tr>\n",
       "    <tr>\n",
       "      <th>6</th>\n",
       "      <td>6</td>\n",
       "      <td>AM</td>\n",
       "      <td>Armenia</td>\n",
       "      <td>174982</td>\n",
       "    </tr>\n",
       "    <tr>\n",
       "      <th>7</th>\n",
       "      <td>7</td>\n",
       "      <td>AO</td>\n",
       "      <td>Angola</td>\n",
       "      <td>3351879</td>\n",
       "    </tr>\n",
       "    <tr>\n",
       "      <th>8</th>\n",
       "      <td>8</td>\n",
       "      <td>AQ</td>\n",
       "      <td>Antarctica</td>\n",
       "      <td>6697173</td>\n",
       "    </tr>\n",
       "    <tr>\n",
       "      <th>9</th>\n",
       "      <td>9</td>\n",
       "      <td>AR</td>\n",
       "      <td>Argentina</td>\n",
       "      <td>3865483</td>\n",
       "    </tr>\n",
       "  </tbody>\n",
       "</table>\n",
       "</div>"
      ],
      "text/plain": [
       "   index country_code               country  geonameid\n",
       "0      0           AD               Andorra    3041565\n",
       "1      1           AE  United Arab Emirates     290557\n",
       "2      2           AF           Afghanistan    1149361\n",
       "3      3           AG   Antigua and Barbuda    3576396\n",
       "4      4           AI              Anguilla    3573511\n",
       "5      5           AL               Albania     783754\n",
       "6      6           AM               Armenia     174982\n",
       "7      7           AO                Angola    3351879\n",
       "8      8           AQ            Antarctica    6697173\n",
       "9      9           AR             Argentina    3865483"
      ]
     },
     "execution_count": 8,
     "metadata": {},
     "output_type": "execute_result"
    }
   ],
   "source": [
    "query = 'SELECT * FROM country_info LIMIT 10'\n",
    "pd.read_sql_query(query, con=engine)"
   ]
  },
  {
   "cell_type": "code",
   "execution_count": 9,
   "id": "6f5a4c0c",
   "metadata": {},
   "outputs": [],
   "source": [
    "df3 = pd.read_csv('C:\\\\Users\\\\Family\\\\Downloads\\\\cities15000.txt', delimiter= '\\t', low_memory=False, header=None, encoding='utf8',\n",
    "                 names = ['geonameid','name','name_ascii','alternate_names','latitude','longitude','feature_class','feature_code','country_code','cc2','admin1_code','admin2_code','admin3_code','admin4_code','population','elevation','dem','timezone','modification_date'],\n",
    "                 usecols = ['geonameid','name','name_ascii','country_code','alternate_names','admin1_code']).dropna()"
   ]
  },
  {
   "cell_type": "code",
   "execution_count": 10,
   "id": "c266f508",
   "metadata": {},
   "outputs": [],
   "source": [
    "df3['code'] = df3.country_code + '.' + df3.admin1_code\n",
    "df3 = df3.drop('admin1_code', axis=1)"
   ]
  },
  {
   "cell_type": "code",
   "execution_count": 11,
   "id": "f6017167",
   "metadata": {},
   "outputs": [
    {
     "name": "stdout",
     "output_type": "stream",
     "text": [
      "<class 'pandas.core.frame.DataFrame'>\n",
      "Int64Index: 24618 entries, 0 to 26931\n",
      "Data columns (total 6 columns):\n",
      " #   Column           Non-Null Count  Dtype \n",
      "---  ------           --------------  ----- \n",
      " 0   geonameid        24618 non-null  int64 \n",
      " 1   name             24618 non-null  object\n",
      " 2   name_ascii       24618 non-null  object\n",
      " 3   alternate_names  24618 non-null  object\n",
      " 4   country_code     24618 non-null  object\n",
      " 5   code             24618 non-null  object\n",
      "dtypes: int64(1), object(5)\n",
      "memory usage: 1.3+ MB\n"
     ]
    }
   ],
   "source": [
    "df3.info()"
   ]
  },
  {
   "cell_type": "code",
   "execution_count": null,
   "id": "bc00fb62",
   "metadata": {},
   "outputs": [],
   "source": [
    "df3.to_sql('cities_15000', con=engine)"
   ]
  },
  {
   "cell_type": "code",
   "execution_count": 11,
   "id": "5ad9eff7",
   "metadata": {},
   "outputs": [
    {
     "data": {
      "text/html": [
       "<div>\n",
       "<style scoped>\n",
       "    .dataframe tbody tr th:only-of-type {\n",
       "        vertical-align: middle;\n",
       "    }\n",
       "\n",
       "    .dataframe tbody tr th {\n",
       "        vertical-align: top;\n",
       "    }\n",
       "\n",
       "    .dataframe thead th {\n",
       "        text-align: right;\n",
       "    }\n",
       "</style>\n",
       "<table border=\"1\" class=\"dataframe\">\n",
       "  <thead>\n",
       "    <tr style=\"text-align: right;\">\n",
       "      <th></th>\n",
       "      <th>index</th>\n",
       "      <th>geonameid</th>\n",
       "      <th>name</th>\n",
       "      <th>name_ascii</th>\n",
       "      <th>alternate_names</th>\n",
       "      <th>country_code</th>\n",
       "    </tr>\n",
       "  </thead>\n",
       "  <tbody>\n",
       "    <tr>\n",
       "      <th>0</th>\n",
       "      <td>0</td>\n",
       "      <td>3040051</td>\n",
       "      <td>les Escaldes</td>\n",
       "      <td>les Escaldes</td>\n",
       "      <td>Ehskal'des-Ehndzhordani,Escaldes,Escaldes-Engo...</td>\n",
       "      <td>AD</td>\n",
       "    </tr>\n",
       "    <tr>\n",
       "      <th>1</th>\n",
       "      <td>1</td>\n",
       "      <td>3041563</td>\n",
       "      <td>Andorra la Vella</td>\n",
       "      <td>Andorra la Vella</td>\n",
       "      <td>ALV,Ando-la-Vyey,Andora,Andora la Vela,Andora ...</td>\n",
       "      <td>AD</td>\n",
       "    </tr>\n",
       "    <tr>\n",
       "      <th>2</th>\n",
       "      <td>2</td>\n",
       "      <td>290594</td>\n",
       "      <td>Umm Al Quwain City</td>\n",
       "      <td>Umm Al Quwain City</td>\n",
       "      <td>Oumm al Qaiwain,Oumm al Qaïwaïn,Um al Kawain,U...</td>\n",
       "      <td>AE</td>\n",
       "    </tr>\n",
       "    <tr>\n",
       "      <th>3</th>\n",
       "      <td>3</td>\n",
       "      <td>291074</td>\n",
       "      <td>Ras Al Khaimah City</td>\n",
       "      <td>Ras Al Khaimah City</td>\n",
       "      <td>Julfa,Khaimah,RAK City,RKT,Ra's al Khaymah,Ra'...</td>\n",
       "      <td>AE</td>\n",
       "    </tr>\n",
       "    <tr>\n",
       "      <th>4</th>\n",
       "      <td>4</td>\n",
       "      <td>291580</td>\n",
       "      <td>Zayed City</td>\n",
       "      <td>Zayed City</td>\n",
       "      <td>Bid' Zayed,Bid’ Zayed,Madinat Za'id,Madinat Za...</td>\n",
       "      <td>AE</td>\n",
       "    </tr>\n",
       "    <tr>\n",
       "      <th>5</th>\n",
       "      <td>5</td>\n",
       "      <td>291696</td>\n",
       "      <td>Khawr Fakkān</td>\n",
       "      <td>Khawr Fakkan</td>\n",
       "      <td>Fakkan,Fakkān,Khawr Fakkan,Khawr Fakkān,Khawr ...</td>\n",
       "      <td>AE</td>\n",
       "    </tr>\n",
       "    <tr>\n",
       "      <th>6</th>\n",
       "      <td>6</td>\n",
       "      <td>292223</td>\n",
       "      <td>Dubai</td>\n",
       "      <td>Dubai</td>\n",
       "      <td>DXB,Dabei,Dibai,Dibay,Doubayi,Dubae,Dubai,Duba...</td>\n",
       "      <td>AE</td>\n",
       "    </tr>\n",
       "    <tr>\n",
       "      <th>7</th>\n",
       "      <td>7</td>\n",
       "      <td>292231</td>\n",
       "      <td>Dibba Al-Fujairah</td>\n",
       "      <td>Dibba Al-Fujairah</td>\n",
       "      <td>Al-Fujairah,BYB,Dibba Al-Fujairah,dba alfjyrt,...</td>\n",
       "      <td>AE</td>\n",
       "    </tr>\n",
       "    <tr>\n",
       "      <th>8</th>\n",
       "      <td>8</td>\n",
       "      <td>292239</td>\n",
       "      <td>Dibba Al-Hisn</td>\n",
       "      <td>Dibba Al-Hisn</td>\n",
       "      <td>BYB,Daba,Daba al-Hisn,Dabā,Dabā al-Ḥiṣn,Diba,D...</td>\n",
       "      <td>AE</td>\n",
       "    </tr>\n",
       "    <tr>\n",
       "      <th>9</th>\n",
       "      <td>9</td>\n",
       "      <td>292672</td>\n",
       "      <td>Sharjah</td>\n",
       "      <td>Sharjah</td>\n",
       "      <td>Al Sharjah,Ash 'Mariqah,Ash Shariqa,Ash Shariq...</td>\n",
       "      <td>AE</td>\n",
       "    </tr>\n",
       "  </tbody>\n",
       "</table>\n",
       "</div>"
      ],
      "text/plain": [
       "   index  geonameid                 name           name_ascii  \\\n",
       "0      0    3040051         les Escaldes         les Escaldes   \n",
       "1      1    3041563     Andorra la Vella     Andorra la Vella   \n",
       "2      2     290594   Umm Al Quwain City   Umm Al Quwain City   \n",
       "3      3     291074  Ras Al Khaimah City  Ras Al Khaimah City   \n",
       "4      4     291580           Zayed City           Zayed City   \n",
       "5      5     291696         Khawr Fakkān         Khawr Fakkan   \n",
       "6      6     292223                Dubai                Dubai   \n",
       "7      7     292231    Dibba Al-Fujairah    Dibba Al-Fujairah   \n",
       "8      8     292239        Dibba Al-Hisn        Dibba Al-Hisn   \n",
       "9      9     292672              Sharjah              Sharjah   \n",
       "\n",
       "                                     alternate_names country_code  \n",
       "0  Ehskal'des-Ehndzhordani,Escaldes,Escaldes-Engo...           AD  \n",
       "1  ALV,Ando-la-Vyey,Andora,Andora la Vela,Andora ...           AD  \n",
       "2  Oumm al Qaiwain,Oumm al Qaïwaïn,Um al Kawain,U...           AE  \n",
       "3  Julfa,Khaimah,RAK City,RKT,Ra's al Khaymah,Ra'...           AE  \n",
       "4  Bid' Zayed,Bid’ Zayed,Madinat Za'id,Madinat Za...           AE  \n",
       "5  Fakkan,Fakkān,Khawr Fakkan,Khawr Fakkān,Khawr ...           AE  \n",
       "6  DXB,Dabei,Dibai,Dibay,Doubayi,Dubae,Dubai,Duba...           AE  \n",
       "7  Al-Fujairah,BYB,Dibba Al-Fujairah,dba alfjyrt,...           AE  \n",
       "8  BYB,Daba,Daba al-Hisn,Dabā,Dabā al-Ḥiṣn,Diba,D...           AE  \n",
       "9  Al Sharjah,Ash 'Mariqah,Ash Shariqa,Ash Shariq...           AE  "
      ]
     },
     "execution_count": 11,
     "metadata": {},
     "output_type": "execute_result"
    }
   ],
   "source": [
    "query = 'SELECT * FROM cities_15000 LIMIT 10'\n",
    "pd.read_sql_query(query, con=engine)"
   ]
  },
  {
   "cell_type": "code",
   "execution_count": 12,
   "id": "09ed7388",
   "metadata": {},
   "outputs": [],
   "source": [
    "df4 = pd.read_csv('C:\\\\Users\\\\Family\\\\Downloads\\\\alternateNamesV2.txt', delimiter= '\\t', low_memory=False, header=None, encoding='utf8',\n",
    "                 names = ['alternate_name_id','geonameid','iso_language','alternate_name','is_preferred_name','is_short_name','is_colloquial','is_historic','from','to'],\n",
    "                 usecols = ['alternate_name_id','geonameid','alternate_name','iso_language'], dtype = {'alternate_name':'str'})"
   ]
  },
  {
   "cell_type": "code",
   "execution_count": 13,
   "id": "22ea1a21",
   "metadata": {},
   "outputs": [
    {
     "name": "stdout",
     "output_type": "stream",
     "text": [
      "<class 'pandas.core.frame.DataFrame'>\n",
      "RangeIndex: 16035088 entries, 0 to 16035087\n",
      "Data columns (total 4 columns):\n",
      " #   Column             Dtype \n",
      "---  ------             ----- \n",
      " 0   alternate_name_id  int64 \n",
      " 1   geonameid          int64 \n",
      " 2   iso_language       object\n",
      " 3   alternate_name     object\n",
      "dtypes: int64(2), object(2)\n",
      "memory usage: 489.4+ MB\n"
     ]
    }
   ],
   "source": [
    "df4.info()"
   ]
  },
  {
   "cell_type": "code",
   "execution_count": 25,
   "id": "5cef1077",
   "metadata": {},
   "outputs": [
    {
     "data": {
      "text/plain": [
       "1000"
      ]
     },
     "execution_count": 25,
     "metadata": {},
     "output_type": "execute_result"
    }
   ],
   "source": [
    "df4.to_sql('alternate_name', con=engine)"
   ]
  },
  {
   "cell_type": "code",
   "execution_count": 14,
   "id": "4a56c20f",
   "metadata": {},
   "outputs": [
    {
     "data": {
      "text/html": [
       "<div>\n",
       "<style scoped>\n",
       "    .dataframe tbody tr th:only-of-type {\n",
       "        vertical-align: middle;\n",
       "    }\n",
       "\n",
       "    .dataframe tbody tr th {\n",
       "        vertical-align: top;\n",
       "    }\n",
       "\n",
       "    .dataframe thead th {\n",
       "        text-align: right;\n",
       "    }\n",
       "</style>\n",
       "<table border=\"1\" class=\"dataframe\">\n",
       "  <thead>\n",
       "    <tr style=\"text-align: right;\">\n",
       "      <th></th>\n",
       "      <th>alternate_name_id</th>\n",
       "      <th>geonameid</th>\n",
       "      <th>iso_language</th>\n",
       "      <th>alternate_name</th>\n",
       "    </tr>\n",
       "  </thead>\n",
       "  <tbody>\n",
       "    <tr>\n",
       "      <th>0</th>\n",
       "      <td>1284819</td>\n",
       "      <td>2994701</td>\n",
       "      <td>NaN</td>\n",
       "      <td>Roc Mélé</td>\n",
       "    </tr>\n",
       "    <tr>\n",
       "      <th>1</th>\n",
       "      <td>1284820</td>\n",
       "      <td>2994701</td>\n",
       "      <td>NaN</td>\n",
       "      <td>Roc Meler</td>\n",
       "    </tr>\n",
       "    <tr>\n",
       "      <th>2</th>\n",
       "      <td>4285256</td>\n",
       "      <td>3007683</td>\n",
       "      <td>NaN</td>\n",
       "      <td>Pic des Langounelles</td>\n",
       "    </tr>\n",
       "    <tr>\n",
       "      <th>3</th>\n",
       "      <td>1291197</td>\n",
       "      <td>3017832</td>\n",
       "      <td>NaN</td>\n",
       "      <td>Pic de les Abelletes</td>\n",
       "    </tr>\n",
       "    <tr>\n",
       "      <th>4</th>\n",
       "      <td>4290387</td>\n",
       "      <td>3017832</td>\n",
       "      <td>NaN</td>\n",
       "      <td>Pic de la Font-Nègre</td>\n",
       "    </tr>\n",
       "  </tbody>\n",
       "</table>\n",
       "</div>"
      ],
      "text/plain": [
       "   alternate_name_id  geonameid iso_language        alternate_name\n",
       "0            1284819    2994701          NaN              Roc Mélé\n",
       "1            1284820    2994701          NaN             Roc Meler\n",
       "2            4285256    3007683          NaN  Pic des Langounelles\n",
       "3            1291197    3017832          NaN  Pic de les Abelletes\n",
       "4            4290387    3017832          NaN  Pic de la Font-Nègre"
      ]
     },
     "execution_count": 14,
     "metadata": {},
     "output_type": "execute_result"
    }
   ],
   "source": [
    "df4.head()"
   ]
  },
  {
   "cell_type": "markdown",
   "id": "500129c2",
   "metadata": {},
   "source": [
    "### Вывод:\n",
    "\n",
    "- На первом этапе мы познакомились с данными и загрузили их на postgresql, а также проверили, что все сохраняется и открывается коректно;\n",
    "\n",
    "- Определили, что в дальнейшем будем работать с name и alternate_name."
   ]
  },
  {
   "cell_type": "markdown",
   "id": "9cf34cb5",
   "metadata": {},
   "source": [
    "Объединяем таблицы"
   ]
  },
  {
   "cell_type": "code",
   "execution_count": 14,
   "id": "222e7922",
   "metadata": {},
   "outputs": [],
   "source": [
    "def asd(df):\n",
    "    return (pd.concat([df, df.drop_duplicates(subset='geonameid').assign(alternate_name = df.name)])\n",
    "           .drop_duplicates().reset_index(drop=True))"
   ]
  },
  {
   "cell_type": "code",
   "execution_count": 15,
   "id": "7645a2f6",
   "metadata": {},
   "outputs": [
    {
     "data": {
      "text/html": [
       "<div>\n",
       "<style scoped>\n",
       "    .dataframe tbody tr th:only-of-type {\n",
       "        vertical-align: middle;\n",
       "    }\n",
       "\n",
       "    .dataframe tbody tr th {\n",
       "        vertical-align: top;\n",
       "    }\n",
       "\n",
       "    .dataframe thead th {\n",
       "        text-align: right;\n",
       "    }\n",
       "</style>\n",
       "<table border=\"1\" class=\"dataframe\">\n",
       "  <thead>\n",
       "    <tr style=\"text-align: right;\">\n",
       "      <th></th>\n",
       "      <th>country_code</th>\n",
       "      <th>name</th>\n",
       "      <th>geonameid</th>\n",
       "      <th>alternate_name_id</th>\n",
       "      <th>iso_language</th>\n",
       "      <th>alternate_name</th>\n",
       "      <th>geo_type</th>\n",
       "      <th>code</th>\n",
       "    </tr>\n",
       "  </thead>\n",
       "  <tbody>\n",
       "    <tr>\n",
       "      <th>0</th>\n",
       "      <td>AD</td>\n",
       "      <td>Andorra</td>\n",
       "      <td>3041565</td>\n",
       "      <td>1298014</td>\n",
       "      <td>ca</td>\n",
       "      <td>Principat d’Andorra</td>\n",
       "      <td>country</td>\n",
       "      <td>AD.00</td>\n",
       "    </tr>\n",
       "    <tr>\n",
       "      <th>1</th>\n",
       "      <td>AD</td>\n",
       "      <td>Andorra</td>\n",
       "      <td>3041565</td>\n",
       "      <td>1298015</td>\n",
       "      <td>NaN</td>\n",
       "      <td>Les Vallées d’Andorre</td>\n",
       "      <td>country</td>\n",
       "      <td>AE.00</td>\n",
       "    </tr>\n",
       "    <tr>\n",
       "      <th>2</th>\n",
       "      <td>AD</td>\n",
       "      <td>Andorra</td>\n",
       "      <td>3041565</td>\n",
       "      <td>1298016</td>\n",
       "      <td>NaN</td>\n",
       "      <td>L’Andorre</td>\n",
       "      <td>country</td>\n",
       "      <td>AF.00</td>\n",
       "    </tr>\n",
       "    <tr>\n",
       "      <th>3</th>\n",
       "      <td>AD</td>\n",
       "      <td>Andorra</td>\n",
       "      <td>3041565</td>\n",
       "      <td>1298017</td>\n",
       "      <td>NaN</td>\n",
       "      <td>Valls d’Andorra</td>\n",
       "      <td>country</td>\n",
       "      <td>AG.00</td>\n",
       "    </tr>\n",
       "    <tr>\n",
       "      <th>4</th>\n",
       "      <td>AD</td>\n",
       "      <td>Andorra</td>\n",
       "      <td>3041565</td>\n",
       "      <td>1298020</td>\n",
       "      <td>NaN</td>\n",
       "      <td>Principauté d’Andorre</td>\n",
       "      <td>country</td>\n",
       "      <td>AI.00</td>\n",
       "    </tr>\n",
       "  </tbody>\n",
       "</table>\n",
       "</div>"
      ],
      "text/plain": [
       "  country_code     name  geonameid  alternate_name_id iso_language  \\\n",
       "0           AD  Andorra    3041565            1298014           ca   \n",
       "1           AD  Andorra    3041565            1298015          NaN   \n",
       "2           AD  Andorra    3041565            1298016          NaN   \n",
       "3           AD  Andorra    3041565            1298017          NaN   \n",
       "4           AD  Andorra    3041565            1298020          NaN   \n",
       "\n",
       "          alternate_name geo_type   code  \n",
       "0    Principat d’Andorra  country  AD.00  \n",
       "1  Les Vallées d’Andorre  country  AE.00  \n",
       "2              L’Andorre  country  AF.00  \n",
       "3        Valls d’Andorra  country  AG.00  \n",
       "4  Principauté d’Andorre  country  AI.00  "
      ]
     },
     "execution_count": 15,
     "metadata": {},
     "output_type": "execute_result"
    }
   ],
   "source": [
    "df_country_info =(df2.merge(df4, on='geonameid', how='left')\n",
    "                 .rename(columns={'country': 'name'})\n",
    "                 .assign(geo_type='country')\n",
    "                 .assign(code=df2.country_code+'.00'))\n",
    "\n",
    "df_country_info =asd(df_country_info)\n",
    "df_country_info.head()"
   ]
  },
  {
   "cell_type": "code",
   "execution_count": 16,
   "id": "c2c3d4bc",
   "metadata": {},
   "outputs": [
    {
     "data": {
      "text/html": [
       "<div>\n",
       "<style scoped>\n",
       "    .dataframe tbody tr th:only-of-type {\n",
       "        vertical-align: middle;\n",
       "    }\n",
       "\n",
       "    .dataframe tbody tr th {\n",
       "        vertical-align: top;\n",
       "    }\n",
       "\n",
       "    .dataframe thead th {\n",
       "        text-align: right;\n",
       "    }\n",
       "</style>\n",
       "<table border=\"1\" class=\"dataframe\">\n",
       "  <thead>\n",
       "    <tr style=\"text-align: right;\">\n",
       "      <th></th>\n",
       "      <th>code</th>\n",
       "      <th>name</th>\n",
       "      <th>geonameid</th>\n",
       "      <th>country_code</th>\n",
       "      <th>country</th>\n",
       "      <th>alternate_name_id</th>\n",
       "      <th>iso_language</th>\n",
       "      <th>alternate_name</th>\n",
       "      <th>geo_type</th>\n",
       "    </tr>\n",
       "  </thead>\n",
       "  <tbody>\n",
       "    <tr>\n",
       "      <th>0</th>\n",
       "      <td>AD.06</td>\n",
       "      <td>Sant Julià de Loria</td>\n",
       "      <td>3039162</td>\n",
       "      <td>AD</td>\n",
       "      <td>Andorra</td>\n",
       "      <td>1297839.0</td>\n",
       "      <td>ca</td>\n",
       "      <td>Sant Julià de Lòria</td>\n",
       "      <td>region</td>\n",
       "    </tr>\n",
       "    <tr>\n",
       "      <th>1</th>\n",
       "      <td>AD.06</td>\n",
       "      <td>Sant Julià de Loria</td>\n",
       "      <td>3039162</td>\n",
       "      <td>AD</td>\n",
       "      <td>Andorra</td>\n",
       "      <td>1297840.0</td>\n",
       "      <td>en</td>\n",
       "      <td>Sant Julià de Loria</td>\n",
       "      <td>region</td>\n",
       "    </tr>\n",
       "    <tr>\n",
       "      <th>2</th>\n",
       "      <td>AD.06</td>\n",
       "      <td>Sant Julià de Loria</td>\n",
       "      <td>3039162</td>\n",
       "      <td>AD</td>\n",
       "      <td>Andorra</td>\n",
       "      <td>1297841.0</td>\n",
       "      <td>ca</td>\n",
       "      <td>Parròquia de Sant Julià de Lòria</td>\n",
       "      <td>region</td>\n",
       "    </tr>\n",
       "    <tr>\n",
       "      <th>3</th>\n",
       "      <td>AD.06</td>\n",
       "      <td>Sant Julià de Loria</td>\n",
       "      <td>3039162</td>\n",
       "      <td>AD</td>\n",
       "      <td>Andorra</td>\n",
       "      <td>2170607.0</td>\n",
       "      <td>post</td>\n",
       "      <td>AD600</td>\n",
       "      <td>region</td>\n",
       "    </tr>\n",
       "    <tr>\n",
       "      <th>4</th>\n",
       "      <td>AD.06</td>\n",
       "      <td>Sant Julià de Loria</td>\n",
       "      <td>3039162</td>\n",
       "      <td>AD</td>\n",
       "      <td>Andorra</td>\n",
       "      <td>2185944.0</td>\n",
       "      <td>fr</td>\n",
       "      <td>Sant Julià de Lòria</td>\n",
       "      <td>region</td>\n",
       "    </tr>\n",
       "  </tbody>\n",
       "</table>\n",
       "</div>"
      ],
      "text/plain": [
       "    code                 name  geonameid country_code  country  \\\n",
       "0  AD.06  Sant Julià de Loria    3039162           AD  Andorra   \n",
       "1  AD.06  Sant Julià de Loria    3039162           AD  Andorra   \n",
       "2  AD.06  Sant Julià de Loria    3039162           AD  Andorra   \n",
       "3  AD.06  Sant Julià de Loria    3039162           AD  Andorra   \n",
       "4  AD.06  Sant Julià de Loria    3039162           AD  Andorra   \n",
       "\n",
       "   alternate_name_id iso_language                    alternate_name geo_type  \n",
       "0          1297839.0           ca               Sant Julià de Lòria   region  \n",
       "1          1297840.0           en               Sant Julià de Loria   region  \n",
       "2          1297841.0           ca  Parròquia de Sant Julià de Lòria   region  \n",
       "3          2170607.0         post                             AD600   region  \n",
       "4          2185944.0           fr               Sant Julià de Lòria   region  "
      ]
     },
     "execution_count": 16,
     "metadata": {},
     "output_type": "execute_result"
    }
   ],
   "source": [
    "df_region = (df1.merge(df2[['country_code','country']],on='country_code', how='left')\n",
    "             .merge(df4, on='geonameid', how='left')\n",
    "             .rename(columns={'name_reg': 'name'})\n",
    "             .assign(geo_type='region')\n",
    "             .drop_duplicates()\n",
    "             .reset_index(drop=True)\n",
    "            )\n",
    "            \n",
    "df_region =asd(df_region)\n",
    "df_region.head()"
   ]
  },
  {
   "cell_type": "code",
   "execution_count": 17,
   "id": "a46e88f6",
   "metadata": {},
   "outputs": [
    {
     "data": {
      "text/html": [
       "<div>\n",
       "<style scoped>\n",
       "    .dataframe tbody tr th:only-of-type {\n",
       "        vertical-align: middle;\n",
       "    }\n",
       "\n",
       "    .dataframe tbody tr th {\n",
       "        vertical-align: top;\n",
       "    }\n",
       "\n",
       "    .dataframe thead th {\n",
       "        text-align: right;\n",
       "    }\n",
       "</style>\n",
       "<table border=\"1\" class=\"dataframe\">\n",
       "  <thead>\n",
       "    <tr style=\"text-align: right;\">\n",
       "      <th></th>\n",
       "      <th>geonameid</th>\n",
       "      <th>name</th>\n",
       "      <th>name_ascii</th>\n",
       "      <th>alternate_names</th>\n",
       "      <th>country_code</th>\n",
       "      <th>code</th>\n",
       "      <th>name_reg</th>\n",
       "      <th>country</th>\n",
       "      <th>alternate_name_id</th>\n",
       "      <th>iso_language</th>\n",
       "      <th>alternate_name</th>\n",
       "      <th>geo_type</th>\n",
       "    </tr>\n",
       "  </thead>\n",
       "  <tbody>\n",
       "    <tr>\n",
       "      <th>0</th>\n",
       "      <td>3040051</td>\n",
       "      <td>les Escaldes</td>\n",
       "      <td>les Escaldes</td>\n",
       "      <td>Ehskal'des-Ehndzhordani,Escaldes,Escaldes-Engo...</td>\n",
       "      <td>AD</td>\n",
       "      <td>AD.08</td>\n",
       "      <td>Escaldes-Engordany</td>\n",
       "      <td>Andorra</td>\n",
       "      <td>1297907</td>\n",
       "      <td>ca</td>\n",
       "      <td>Les Escaldes</td>\n",
       "      <td>city</td>\n",
       "    </tr>\n",
       "    <tr>\n",
       "      <th>1</th>\n",
       "      <td>3040051</td>\n",
       "      <td>les Escaldes</td>\n",
       "      <td>les Escaldes</td>\n",
       "      <td>Ehskal'des-Ehndzhordani,Escaldes,Escaldes-Engo...</td>\n",
       "      <td>AD</td>\n",
       "      <td>AD.08</td>\n",
       "      <td>Escaldes-Engordany</td>\n",
       "      <td>Andorra</td>\n",
       "      <td>1297908</td>\n",
       "      <td>ca</td>\n",
       "      <td>Escaldes</td>\n",
       "      <td>city</td>\n",
       "    </tr>\n",
       "    <tr>\n",
       "      <th>2</th>\n",
       "      <td>3040051</td>\n",
       "      <td>les Escaldes</td>\n",
       "      <td>les Escaldes</td>\n",
       "      <td>Ehskal'des-Ehndzhordani,Escaldes,Escaldes-Engo...</td>\n",
       "      <td>AD</td>\n",
       "      <td>AD.08</td>\n",
       "      <td>Escaldes-Engordany</td>\n",
       "      <td>Andorra</td>\n",
       "      <td>1904145</td>\n",
       "      <td>fr</td>\n",
       "      <td>Escaldes-Engordany</td>\n",
       "      <td>city</td>\n",
       "    </tr>\n",
       "    <tr>\n",
       "      <th>3</th>\n",
       "      <td>3040051</td>\n",
       "      <td>les Escaldes</td>\n",
       "      <td>les Escaldes</td>\n",
       "      <td>Ehskal'des-Ehndzhordani,Escaldes,Escaldes-Engo...</td>\n",
       "      <td>AD</td>\n",
       "      <td>AD.08</td>\n",
       "      <td>Escaldes-Engordany</td>\n",
       "      <td>Andorra</td>\n",
       "      <td>1904146</td>\n",
       "      <td>pl</td>\n",
       "      <td>Escaldes-Engordany</td>\n",
       "      <td>city</td>\n",
       "    </tr>\n",
       "    <tr>\n",
       "      <th>4</th>\n",
       "      <td>3040051</td>\n",
       "      <td>les Escaldes</td>\n",
       "      <td>les Escaldes</td>\n",
       "      <td>Ehskal'des-Ehndzhordani,Escaldes,Escaldes-Engo...</td>\n",
       "      <td>AD</td>\n",
       "      <td>AD.08</td>\n",
       "      <td>Escaldes-Engordany</td>\n",
       "      <td>Andorra</td>\n",
       "      <td>1904147</td>\n",
       "      <td>es</td>\n",
       "      <td>Escaldes-Engordany</td>\n",
       "      <td>city</td>\n",
       "    </tr>\n",
       "  </tbody>\n",
       "</table>\n",
       "</div>"
      ],
      "text/plain": [
       "   geonameid          name    name_ascii  \\\n",
       "0    3040051  les Escaldes  les Escaldes   \n",
       "1    3040051  les Escaldes  les Escaldes   \n",
       "2    3040051  les Escaldes  les Escaldes   \n",
       "3    3040051  les Escaldes  les Escaldes   \n",
       "4    3040051  les Escaldes  les Escaldes   \n",
       "\n",
       "                                     alternate_names country_code   code  \\\n",
       "0  Ehskal'des-Ehndzhordani,Escaldes,Escaldes-Engo...           AD  AD.08   \n",
       "1  Ehskal'des-Ehndzhordani,Escaldes,Escaldes-Engo...           AD  AD.08   \n",
       "2  Ehskal'des-Ehndzhordani,Escaldes,Escaldes-Engo...           AD  AD.08   \n",
       "3  Ehskal'des-Ehndzhordani,Escaldes,Escaldes-Engo...           AD  AD.08   \n",
       "4  Ehskal'des-Ehndzhordani,Escaldes,Escaldes-Engo...           AD  AD.08   \n",
       "\n",
       "             name_reg  country  alternate_name_id iso_language  \\\n",
       "0  Escaldes-Engordany  Andorra            1297907           ca   \n",
       "1  Escaldes-Engordany  Andorra            1297908           ca   \n",
       "2  Escaldes-Engordany  Andorra            1904145           fr   \n",
       "3  Escaldes-Engordany  Andorra            1904146           pl   \n",
       "4  Escaldes-Engordany  Andorra            1904147           es   \n",
       "\n",
       "       alternate_name geo_type  \n",
       "0        Les Escaldes     city  \n",
       "1            Escaldes     city  \n",
       "2  Escaldes-Engordany     city  \n",
       "3  Escaldes-Engordany     city  \n",
       "4  Escaldes-Engordany     city  "
      ]
     },
     "execution_count": 17,
     "metadata": {},
     "output_type": "execute_result"
    }
   ],
   "source": [
    "df_cities = (df3.merge(df1[['code','name_reg']],on='code', how='left')\n",
    "             .merge(df2[['country_code','country']], on='country_code', how='left')\n",
    "             .merge(df4, on='geonameid', how='left')\n",
    "             .assign(geo_type='city')\n",
    "             .drop_duplicates()\n",
    "             .reset_index(drop=True)\n",
    "            )\n",
    "\n",
    "df_cities =asd(df_cities)\n",
    "df_cities.head()"
   ]
  },
  {
   "cell_type": "code",
   "execution_count": 18,
   "id": "ce3938c8",
   "metadata": {},
   "outputs": [],
   "source": [
    "df_full = pd.concat([df_country_info, df_region, df_cities], axis=0)\n",
    "df_full['country'] = df_full['country'].fillna(value=df_full['name'])\n",
    "df_full['name_reg'] = df_full['name_reg'].fillna(value=df_full['name'])\n",
    "df_full['alternate_name'] = df_full['alternate_name'].fillna(value=df_full['name'])\n",
    "df_full = df_full.drop_duplicates()"
   ]
  },
  {
   "cell_type": "code",
   "execution_count": 19,
   "id": "31b0fe4a",
   "metadata": {},
   "outputs": [
    {
     "data": {
      "text/html": [
       "<div>\n",
       "<style scoped>\n",
       "    .dataframe tbody tr th:only-of-type {\n",
       "        vertical-align: middle;\n",
       "    }\n",
       "\n",
       "    .dataframe tbody tr th {\n",
       "        vertical-align: top;\n",
       "    }\n",
       "\n",
       "    .dataframe thead th {\n",
       "        text-align: right;\n",
       "    }\n",
       "</style>\n",
       "<table border=\"1\" class=\"dataframe\">\n",
       "  <thead>\n",
       "    <tr style=\"text-align: right;\">\n",
       "      <th></th>\n",
       "      <th>country_code</th>\n",
       "      <th>name</th>\n",
       "      <th>geonameid</th>\n",
       "      <th>alternate_name_id</th>\n",
       "      <th>iso_language</th>\n",
       "      <th>alternate_name</th>\n",
       "      <th>geo_type</th>\n",
       "      <th>code</th>\n",
       "      <th>country</th>\n",
       "      <th>name_ascii</th>\n",
       "      <th>alternate_names</th>\n",
       "      <th>name_reg</th>\n",
       "    </tr>\n",
       "  </thead>\n",
       "  <tbody>\n",
       "    <tr>\n",
       "      <th>0</th>\n",
       "      <td>AM</td>\n",
       "      <td>Armenia</td>\n",
       "      <td>174982</td>\n",
       "      <td>135836.0</td>\n",
       "      <td>hy</td>\n",
       "      <td>Hayastani Hanrapetut’yun</td>\n",
       "      <td>country</td>\n",
       "      <td>NaN</td>\n",
       "      <td>Armenia</td>\n",
       "      <td>NaN</td>\n",
       "      <td>NaN</td>\n",
       "      <td>Armenia</td>\n",
       "    </tr>\n",
       "    <tr>\n",
       "      <th>1</th>\n",
       "      <td>AM</td>\n",
       "      <td>Armenia</td>\n",
       "      <td>174982</td>\n",
       "      <td>135839.0</td>\n",
       "      <td>NaN</td>\n",
       "      <td>Armenian Soviet Socialist Republic</td>\n",
       "      <td>country</td>\n",
       "      <td>NaN</td>\n",
       "      <td>Armenia</td>\n",
       "      <td>NaN</td>\n",
       "      <td>NaN</td>\n",
       "      <td>Armenia</td>\n",
       "    </tr>\n",
       "    <tr>\n",
       "      <th>2</th>\n",
       "      <td>AM</td>\n",
       "      <td>Armenia</td>\n",
       "      <td>174982</td>\n",
       "      <td>1560696.0</td>\n",
       "      <td>af</td>\n",
       "      <td>Armenië</td>\n",
       "      <td>country</td>\n",
       "      <td>NaN</td>\n",
       "      <td>Armenia</td>\n",
       "      <td>NaN</td>\n",
       "      <td>NaN</td>\n",
       "      <td>Armenia</td>\n",
       "    </tr>\n",
       "    <tr>\n",
       "      <th>3</th>\n",
       "      <td>AM</td>\n",
       "      <td>Armenia</td>\n",
       "      <td>174982</td>\n",
       "      <td>1560697.0</td>\n",
       "      <td>am</td>\n",
       "      <td>አርሜኒያ</td>\n",
       "      <td>country</td>\n",
       "      <td>NaN</td>\n",
       "      <td>Armenia</td>\n",
       "      <td>NaN</td>\n",
       "      <td>NaN</td>\n",
       "      <td>Armenia</td>\n",
       "    </tr>\n",
       "    <tr>\n",
       "      <th>4</th>\n",
       "      <td>AM</td>\n",
       "      <td>Armenia</td>\n",
       "      <td>174982</td>\n",
       "      <td>1560698.0</td>\n",
       "      <td>ar</td>\n",
       "      <td>ارمينيا</td>\n",
       "      <td>country</td>\n",
       "      <td>NaN</td>\n",
       "      <td>Armenia</td>\n",
       "      <td>NaN</td>\n",
       "      <td>NaN</td>\n",
       "      <td>Armenia</td>\n",
       "    </tr>\n",
       "    <tr>\n",
       "      <th>...</th>\n",
       "      <td>...</td>\n",
       "      <td>...</td>\n",
       "      <td>...</td>\n",
       "      <td>...</td>\n",
       "      <td>...</td>\n",
       "      <td>...</td>\n",
       "      <td>...</td>\n",
       "      <td>...</td>\n",
       "      <td>...</td>\n",
       "      <td>...</td>\n",
       "      <td>...</td>\n",
       "      <td>...</td>\n",
       "    </tr>\n",
       "    <tr>\n",
       "      <th>29121</th>\n",
       "      <td>RU</td>\n",
       "      <td>Sampsonievskiy</td>\n",
       "      <td>8504965</td>\n",
       "      <td>8067493.0</td>\n",
       "      <td>ru</td>\n",
       "      <td>Sampsonievskiy</td>\n",
       "      <td>city</td>\n",
       "      <td>RU.42</td>\n",
       "      <td>Russia</td>\n",
       "      <td>Sampsonievskiy</td>\n",
       "      <td>Sampsonievskij,Sampsonievskoe,Сампсониевский,С...</td>\n",
       "      <td>Leningradskaya Oblast'</td>\n",
       "    </tr>\n",
       "    <tr>\n",
       "      <th>29122</th>\n",
       "      <td>RU</td>\n",
       "      <td>Vostochnoe Degunino</td>\n",
       "      <td>8505053</td>\n",
       "      <td>8613237.0</td>\n",
       "      <td>ru</td>\n",
       "      <td>Vostochnoe Degunino</td>\n",
       "      <td>city</td>\n",
       "      <td>RU.48</td>\n",
       "      <td>Russia</td>\n",
       "      <td>Vostochnoe Degunino</td>\n",
       "      <td>Vostochnoe Degunino,Восточное Дегунино</td>\n",
       "      <td>Moscow</td>\n",
       "    </tr>\n",
       "    <tr>\n",
       "      <th>29123</th>\n",
       "      <td>RU</td>\n",
       "      <td>Dzerzhinsky</td>\n",
       "      <td>8521440</td>\n",
       "      <td>7131300.0</td>\n",
       "      <td>link</td>\n",
       "      <td>Dzerzhinsky</td>\n",
       "      <td>city</td>\n",
       "      <td>RU.47</td>\n",
       "      <td>Russia</td>\n",
       "      <td>Dzerzhinsky</td>\n",
       "      <td>Dzerzhinskij,Дзержинский</td>\n",
       "      <td>Moscow Oblast</td>\n",
       "    </tr>\n",
       "    <tr>\n",
       "      <th>29124</th>\n",
       "      <td>RU</td>\n",
       "      <td>Fedorovskiy</td>\n",
       "      <td>11886891</td>\n",
       "      <td>13721178.0</td>\n",
       "      <td>ru</td>\n",
       "      <td>Fedorovskiy</td>\n",
       "      <td>city</td>\n",
       "      <td>RU.32</td>\n",
       "      <td>Russia</td>\n",
       "      <td>Fedorovskiy</td>\n",
       "      <td>Fedorovskij,Федоровский</td>\n",
       "      <td>Khanty-Mansia</td>\n",
       "    </tr>\n",
       "    <tr>\n",
       "      <th>29125</th>\n",
       "      <td>RU</td>\n",
       "      <td>Mezgor'e</td>\n",
       "      <td>12041452</td>\n",
       "      <td>16325425.0</td>\n",
       "      <td>ru</td>\n",
       "      <td>Mezgor'e</td>\n",
       "      <td>city</td>\n",
       "      <td>RU.08</td>\n",
       "      <td>Russia</td>\n",
       "      <td>Mezgor'e</td>\n",
       "      <td>Mezhgor'e,Межгорье</td>\n",
       "      <td>Bashkortostan Republic</td>\n",
       "    </tr>\n",
       "  </tbody>\n",
       "</table>\n",
       "<p>29126 rows × 12 columns</p>\n",
       "</div>"
      ],
      "text/plain": [
       "      country_code                 name  geonameid  alternate_name_id  \\\n",
       "0               AM              Armenia     174982           135836.0   \n",
       "1               AM              Armenia     174982           135839.0   \n",
       "2               AM              Armenia     174982          1560696.0   \n",
       "3               AM              Armenia     174982          1560697.0   \n",
       "4               AM              Armenia     174982          1560698.0   \n",
       "...            ...                  ...        ...                ...   \n",
       "29121           RU       Sampsonievskiy    8504965          8067493.0   \n",
       "29122           RU  Vostochnoe Degunino    8505053          8613237.0   \n",
       "29123           RU          Dzerzhinsky    8521440          7131300.0   \n",
       "29124           RU          Fedorovskiy   11886891         13721178.0   \n",
       "29125           RU             Mezgor'e   12041452         16325425.0   \n",
       "\n",
       "      iso_language                      alternate_name geo_type   code  \\\n",
       "0               hy            Hayastani Hanrapetut’yun  country    NaN   \n",
       "1              NaN  Armenian Soviet Socialist Republic  country    NaN   \n",
       "2               af                             Armenië  country    NaN   \n",
       "3               am                               አርሜኒያ  country    NaN   \n",
       "4               ar                             ارمينيا  country    NaN   \n",
       "...            ...                                 ...      ...    ...   \n",
       "29121           ru                      Sampsonievskiy     city  RU.42   \n",
       "29122           ru                 Vostochnoe Degunino     city  RU.48   \n",
       "29123         link                         Dzerzhinsky     city  RU.47   \n",
       "29124           ru                         Fedorovskiy     city  RU.32   \n",
       "29125           ru                            Mezgor'e     city  RU.08   \n",
       "\n",
       "       country           name_ascii  \\\n",
       "0      Armenia                  NaN   \n",
       "1      Armenia                  NaN   \n",
       "2      Armenia                  NaN   \n",
       "3      Armenia                  NaN   \n",
       "4      Armenia                  NaN   \n",
       "...        ...                  ...   \n",
       "29121   Russia       Sampsonievskiy   \n",
       "29122   Russia  Vostochnoe Degunino   \n",
       "29123   Russia          Dzerzhinsky   \n",
       "29124   Russia          Fedorovskiy   \n",
       "29125   Russia             Mezgor'e   \n",
       "\n",
       "                                         alternate_names  \\\n",
       "0                                                    NaN   \n",
       "1                                                    NaN   \n",
       "2                                                    NaN   \n",
       "3                                                    NaN   \n",
       "4                                                    NaN   \n",
       "...                                                  ...   \n",
       "29121  Sampsonievskij,Sampsonievskoe,Сампсониевский,С...   \n",
       "29122             Vostochnoe Degunino,Восточное Дегунино   \n",
       "29123                           Dzerzhinskij,Дзержинский   \n",
       "29124                            Fedorovskij,Федоровский   \n",
       "29125                                 Mezhgor'e,Межгорье   \n",
       "\n",
       "                     name_reg  \n",
       "0                     Armenia  \n",
       "1                     Armenia  \n",
       "2                     Armenia  \n",
       "3                     Armenia  \n",
       "4                     Armenia  \n",
       "...                       ...  \n",
       "29121  Leningradskaya Oblast'  \n",
       "29122                  Moscow  \n",
       "29123           Moscow Oblast  \n",
       "29124           Khanty-Mansia  \n",
       "29125  Bashkortostan Republic  \n",
       "\n",
       "[29126 rows x 12 columns]"
      ]
     },
     "execution_count": 19,
     "metadata": {},
     "output_type": "execute_result"
    }
   ],
   "source": [
    "df_filtr = df_full[df_full.country_code.isin(['AM','RU','BY','KG','GE','RS','ME'])].reset_index(drop=True)\n",
    "df_filtr"
   ]
  },
  {
   "cell_type": "code",
   "execution_count": 20,
   "id": "2331de13",
   "metadata": {},
   "outputs": [
    {
     "name": "stdout",
     "output_type": "stream",
     "text": [
      "<class 'pandas.core.frame.DataFrame'>\n",
      "RangeIndex: 29126 entries, 0 to 29125\n",
      "Data columns (total 12 columns):\n",
      " #   Column             Non-Null Count  Dtype  \n",
      "---  ------             --------------  -----  \n",
      " 0   country_code       29126 non-null  object \n",
      " 1   name               29126 non-null  object \n",
      " 2   geonameid          29126 non-null  int64  \n",
      " 3   alternate_name_id  29126 non-null  float64\n",
      " 4   iso_language       24278 non-null  object \n",
      " 5   alternate_name     29126 non-null  object \n",
      " 6   geo_type           29126 non-null  object \n",
      " 7   code               27620 non-null  object \n",
      " 8   country            29126 non-null  object \n",
      " 9   name_ascii         24571 non-null  object \n",
      " 10  alternate_names    24571 non-null  object \n",
      " 11  name_reg           29126 non-null  object \n",
      "dtypes: float64(1), int64(1), object(10)\n",
      "memory usage: 2.7+ MB\n"
     ]
    }
   ],
   "source": [
    "df_filtr.info()"
   ]
  },
  {
   "cell_type": "markdown",
   "id": "97b8e571",
   "metadata": {},
   "source": [
    "### Вывод:\n",
    "\n",
    "Объеденили необходимые данные в один датасет, который отфильтровали согласно задания закaзчика (7 стран)."
   ]
  },
  {
   "cell_type": "code",
   "execution_count": 24,
   "id": "8f37dee0",
   "metadata": {},
   "outputs": [],
   "source": [
    "if not os.path.exists('C:/Users/Family/Downloads'):\n",
    "    os.makedirs('C:/Users/Family/Downloads')\n",
    "    df_filtr.to_csv('C:/Users/Family/Downloads/df_filtr.csv', index=False)"
   ]
  },
  {
   "cell_type": "markdown",
   "id": "7084cfc4",
   "metadata": {},
   "source": [
    "Битекстовый анализ описывает процесс поиска переведенных пар слов на двух языках. Это наш вариант использования, выбираем модель обеспечивающую наилучшую производительность:\n",
    "\n",
    "LaBSE - Модель LaBSE. \n",
    "\n",
    "Поддерживает 109 языков. Хорошо подходит для поиска пар переводов на нескольких языках. Как подробно описано здесь, LaBSE хуже подходит для оценки сходства пар предложений, которые не являются переводами друг друга."
   ]
  },
  {
   "cell_type": "code",
   "execution_count": 23,
   "id": "56723de4",
   "metadata": {},
   "outputs": [],
   "source": [
    "model = SentenceTransformer('sentence-transformers/LaBSE')\n",
    "translator = Translator(from_lang='russian', to_lang='English')"
   ]
  },
  {
   "cell_type": "code",
   "execution_count": 24,
   "id": "43c4966e",
   "metadata": {},
   "outputs": [
    {
     "data": {
      "application/vnd.jupyter.widget-view+json": {
       "model_id": "1e04b630adfb47058e9f4ca465df4c45",
       "version_major": 2,
       "version_minor": 0
      },
      "text/plain": [
       "Batches:   0%|          | 0/911 [00:00<?, ?it/s]"
      ]
     },
     "metadata": {},
     "output_type": "display_data"
    }
   ],
   "source": [
    "if os.path.isfile('C:/Users/Family/Downloads/embeddings.csv'):\n",
    "    logging.info('Load embeddings')\n",
    "    embeddings = pd.read_С('C:/Users/Family/Downloads/embeddings.csv')\n",
    "else:\n",
    "    logging.info('Encode embeddings...')\n",
    "    embeddings = model.encode(df_filtr.alternate_name.str.lower().values, normalize_embeddings=True, show_progress_bar=True)\n",
    "    pd.DataFrame(embeddings).to_csv('C:/Users/Family/Downloads/embeddings.csv', index=False)"
   ]
  },
  {
   "cell_type": "code",
   "execution_count": 27,
   "id": "92304c79",
   "metadata": {},
   "outputs": [],
   "source": [
    "def similar(question, translate=False, num=5, search=100, names_only=False):\n",
    "    question = question.lower()\n",
    "    query = translator.translate(question) if translate else question\n",
    "    query_embedding = model.encode(query, convert_to_tensor=True, show_progress_bar=False).reshape(1,-1)\n",
    "    res = util.semantic_search(query_embedding, embeddings, top_k=search)\n",
    "    idx = [i['corpus_id'] for i in res[0]]\n",
    "    score = [i['score'] for i in res[0]]\n",
    "    \n",
    "    if names_only:\n",
    "        return (df_filtr.loc[idx].drop_duplicates(subset=['name', 'code']).iloc[:num].name.tolist())\n",
    "    else:\n",
    "        return (df_filtr.loc[idx, ['name', 'code', 'name_reg', 'country']]\n",
    "               .assign(similarity=score)\n",
    "               .drop_duplicates(subset=['name', 'code'])\n",
    "               .iloc[:num])"
   ]
  },
  {
   "cell_type": "code",
   "execution_count": 28,
   "id": "77dbfb09",
   "metadata": {},
   "outputs": [
    {
     "data": {
      "text/html": [
       "<div>\n",
       "<style scoped>\n",
       "    .dataframe tbody tr th:only-of-type {\n",
       "        vertical-align: middle;\n",
       "    }\n",
       "\n",
       "    .dataframe tbody tr th {\n",
       "        vertical-align: top;\n",
       "    }\n",
       "\n",
       "    .dataframe thead th {\n",
       "        text-align: right;\n",
       "    }\n",
       "</style>\n",
       "<table border=\"1\" class=\"dataframe\">\n",
       "  <thead>\n",
       "    <tr style=\"text-align: right;\">\n",
       "      <th></th>\n",
       "      <th>name</th>\n",
       "      <th>code</th>\n",
       "      <th>name_reg</th>\n",
       "      <th>country</th>\n",
       "      <th>similarity</th>\n",
       "    </tr>\n",
       "  </thead>\n",
       "  <tbody>\n",
       "    <tr>\n",
       "      <th>1492</th>\n",
       "      <td>Russia</td>\n",
       "      <td>NaN</td>\n",
       "      <td>Russia</td>\n",
       "      <td>Russia</td>\n",
       "      <td>0.894280</td>\n",
       "    </tr>\n",
       "    <tr>\n",
       "      <th>23969</th>\n",
       "      <td>Sayanogorsk</td>\n",
       "      <td>RU.31</td>\n",
       "      <td>Khakasiya Republic</td>\n",
       "      <td>Russia</td>\n",
       "      <td>0.877791</td>\n",
       "    </tr>\n",
       "    <tr>\n",
       "      <th>8746</th>\n",
       "      <td>Zheleznovodsk</td>\n",
       "      <td>RU.70</td>\n",
       "      <td>Stavropol Kray</td>\n",
       "      <td>Russia</td>\n",
       "      <td>0.866411</td>\n",
       "    </tr>\n",
       "    <tr>\n",
       "      <th>11938</th>\n",
       "      <td>Shcherbinka</td>\n",
       "      <td>RU.48</td>\n",
       "      <td>Moscow</td>\n",
       "      <td>Russia</td>\n",
       "      <td>0.864898</td>\n",
       "    </tr>\n",
       "    <tr>\n",
       "      <th>22194</th>\n",
       "      <td>Atkarsk</td>\n",
       "      <td>RU.67</td>\n",
       "      <td>Saratov Oblast</td>\n",
       "      <td>Russia</td>\n",
       "      <td>0.853817</td>\n",
       "    </tr>\n",
       "  </tbody>\n",
       "</table>\n",
       "</div>"
      ],
      "text/plain": [
       "                name   code            name_reg country  similarity\n",
       "1492          Russia    NaN              Russia  Russia    0.894280\n",
       "23969    Sayanogorsk  RU.31  Khakasiya Republic  Russia    0.877791\n",
       "8746   Zheleznovodsk  RU.70      Stavropol Kray  Russia    0.866411\n",
       "11938    Shcherbinka  RU.48              Moscow  Russia    0.864898\n",
       "22194        Atkarsk  RU.67      Saratov Oblast  Russia    0.853817"
      ]
     },
     "execution_count": 28,
     "metadata": {},
     "output_type": "execute_result"
    }
   ],
   "source": [
    "similar('русь')"
   ]
  },
  {
   "cell_type": "markdown",
   "id": "65972b54",
   "metadata": {},
   "source": [
    "### Вывод:\n",
    "\n",
    "Модель хорошо справляется с поставленной задачей, но попробуем обучить модель на имеющихся данных и определять будем насиленый пункт по названию."
   ]
  },
  {
   "cell_type": "code",
   "execution_count": 33,
   "id": "6a857fc8",
   "metadata": {},
   "outputs": [
    {
     "data": {
      "text/html": [
       "<div>\n",
       "<style scoped>\n",
       "    .dataframe tbody tr th:only-of-type {\n",
       "        vertical-align: middle;\n",
       "    }\n",
       "\n",
       "    .dataframe tbody tr th {\n",
       "        vertical-align: top;\n",
       "    }\n",
       "\n",
       "    .dataframe thead th {\n",
       "        text-align: right;\n",
       "    }\n",
       "</style>\n",
       "<table border=\"1\" class=\"dataframe\">\n",
       "  <thead>\n",
       "    <tr style=\"text-align: right;\">\n",
       "      <th></th>\n",
       "      <th>geonameid</th>\n",
       "      <th>name</th>\n",
       "      <th>name_ascii</th>\n",
       "      <th>alternate_names</th>\n",
       "      <th>country_code</th>\n",
       "      <th>code</th>\n",
       "    </tr>\n",
       "  </thead>\n",
       "  <tbody>\n",
       "    <tr>\n",
       "      <th>0</th>\n",
       "      <td>3040051</td>\n",
       "      <td>les Escaldes</td>\n",
       "      <td>les Escaldes</td>\n",
       "      <td>Ehskal'des-Ehndzhordani,Escaldes,Escaldes-Engo...</td>\n",
       "      <td>AD</td>\n",
       "      <td>AD.08</td>\n",
       "    </tr>\n",
       "    <tr>\n",
       "      <th>1</th>\n",
       "      <td>3041563</td>\n",
       "      <td>Andorra la Vella</td>\n",
       "      <td>Andorra la Vella</td>\n",
       "      <td>ALV,Ando-la-Vyey,Andora,Andora la Vela,Andora ...</td>\n",
       "      <td>AD</td>\n",
       "      <td>AD.07</td>\n",
       "    </tr>\n",
       "    <tr>\n",
       "      <th>2</th>\n",
       "      <td>290594</td>\n",
       "      <td>Umm Al Quwain City</td>\n",
       "      <td>Umm Al Quwain City</td>\n",
       "      <td>Oumm al Qaiwain,Oumm al Qaïwaïn,Um al Kawain,U...</td>\n",
       "      <td>AE</td>\n",
       "      <td>AE.07</td>\n",
       "    </tr>\n",
       "    <tr>\n",
       "      <th>3</th>\n",
       "      <td>291074</td>\n",
       "      <td>Ras Al Khaimah City</td>\n",
       "      <td>Ras Al Khaimah City</td>\n",
       "      <td>Julfa,Khaimah,RAK City,RKT,Ra's al Khaymah,Ra'...</td>\n",
       "      <td>AE</td>\n",
       "      <td>AE.05</td>\n",
       "    </tr>\n",
       "    <tr>\n",
       "      <th>4</th>\n",
       "      <td>291580</td>\n",
       "      <td>Zayed City</td>\n",
       "      <td>Zayed City</td>\n",
       "      <td>Bid' Zayed,Bid’ Zayed,Madinat Za'id,Madinat Za...</td>\n",
       "      <td>AE</td>\n",
       "      <td>AE.01</td>\n",
       "    </tr>\n",
       "  </tbody>\n",
       "</table>\n",
       "</div>"
      ],
      "text/plain": [
       "   geonameid                 name           name_ascii  \\\n",
       "0    3040051         les Escaldes         les Escaldes   \n",
       "1    3041563     Andorra la Vella     Andorra la Vella   \n",
       "2     290594   Umm Al Quwain City   Umm Al Quwain City   \n",
       "3     291074  Ras Al Khaimah City  Ras Al Khaimah City   \n",
       "4     291580           Zayed City           Zayed City   \n",
       "\n",
       "                                     alternate_names country_code   code  \n",
       "0  Ehskal'des-Ehndzhordani,Escaldes,Escaldes-Engo...           AD  AD.08  \n",
       "1  ALV,Ando-la-Vyey,Andora,Andora la Vela,Andora ...           AD  AD.07  \n",
       "2  Oumm al Qaiwain,Oumm al Qaïwaïn,Um al Kawain,U...           AE  AE.07  \n",
       "3  Julfa,Khaimah,RAK City,RKT,Ra's al Khaymah,Ra'...           AE  AE.05  \n",
       "4  Bid' Zayed,Bid’ Zayed,Madinat Za'id,Madinat Za...           AE  AE.01  "
      ]
     },
     "execution_count": 33,
     "metadata": {},
     "output_type": "execute_result"
    }
   ],
   "source": [
    "df3.head()"
   ]
  },
  {
   "cell_type": "code",
   "execution_count": 34,
   "id": "d4e704a6",
   "metadata": {},
   "outputs": [],
   "source": [
    "df3 = df3[df3.country_code.isin(['AM','RU','BY','KG','GE','RS','ME'])]"
   ]
  },
  {
   "cell_type": "code",
   "execution_count": 35,
   "id": "a5b0b7c3",
   "metadata": {},
   "outputs": [
    {
     "data": {
      "text/html": [
       "<div>\n",
       "<style scoped>\n",
       "    .dataframe tbody tr th:only-of-type {\n",
       "        vertical-align: middle;\n",
       "    }\n",
       "\n",
       "    .dataframe tbody tr th {\n",
       "        vertical-align: top;\n",
       "    }\n",
       "\n",
       "    .dataframe thead th {\n",
       "        text-align: right;\n",
       "    }\n",
       "</style>\n",
       "<table border=\"1\" class=\"dataframe\">\n",
       "  <thead>\n",
       "    <tr style=\"text-align: right;\">\n",
       "      <th></th>\n",
       "      <th>geonameid</th>\n",
       "      <th>name</th>\n",
       "      <th>name_ascii</th>\n",
       "      <th>alternate_names</th>\n",
       "      <th>country_code</th>\n",
       "      <th>code</th>\n",
       "    </tr>\n",
       "  </thead>\n",
       "  <tbody>\n",
       "    <tr>\n",
       "      <th>94</th>\n",
       "      <td>174875</td>\n",
       "      <td>Kapan</td>\n",
       "      <td>Kapan</td>\n",
       "      <td>Ghap'an,Ghapan,Ghap’an,Kafan,Kafin,Kapan,Kapan...</td>\n",
       "      <td>AM</td>\n",
       "      <td>AM.08</td>\n",
       "    </tr>\n",
       "    <tr>\n",
       "      <th>95</th>\n",
       "      <td>174895</td>\n",
       "      <td>Goris</td>\n",
       "      <td>Goris</td>\n",
       "      <td>Geryusy,Goris,Горис,Գորիս</td>\n",
       "      <td>AM</td>\n",
       "      <td>AM.08</td>\n",
       "    </tr>\n",
       "    <tr>\n",
       "      <th>96</th>\n",
       "      <td>174972</td>\n",
       "      <td>Hats’avan</td>\n",
       "      <td>Hats'avan</td>\n",
       "      <td>Acavan,Atsavan,Hats'avan,Hats’avan,Sisian,Ацав...</td>\n",
       "      <td>AM</td>\n",
       "      <td>AM.08</td>\n",
       "    </tr>\n",
       "    <tr>\n",
       "      <th>97</th>\n",
       "      <td>174979</td>\n",
       "      <td>Artashat</td>\n",
       "      <td>Artashat</td>\n",
       "      <td>Artachat,Artasat,Artasatas,Artasato,Artaschat,...</td>\n",
       "      <td>AM</td>\n",
       "      <td>AM.02</td>\n",
       "    </tr>\n",
       "    <tr>\n",
       "      <th>98</th>\n",
       "      <td>174991</td>\n",
       "      <td>Ararat</td>\n",
       "      <td>Ararat</td>\n",
       "      <td>Ararat,Araratas,Ararato,Davalinskiy Tsemzavod,...</td>\n",
       "      <td>AM</td>\n",
       "      <td>AM.02</td>\n",
       "    </tr>\n",
       "  </tbody>\n",
       "</table>\n",
       "</div>"
      ],
      "text/plain": [
       "    geonameid       name name_ascii  \\\n",
       "94     174875      Kapan      Kapan   \n",
       "95     174895      Goris      Goris   \n",
       "96     174972  Hats’avan  Hats'avan   \n",
       "97     174979   Artashat   Artashat   \n",
       "98     174991     Ararat     Ararat   \n",
       "\n",
       "                                      alternate_names country_code   code  \n",
       "94  Ghap'an,Ghapan,Ghap’an,Kafan,Kafin,Kapan,Kapan...           AM  AM.08  \n",
       "95                          Geryusy,Goris,Горис,Գորիս           AM  AM.08  \n",
       "96  Acavan,Atsavan,Hats'avan,Hats’avan,Sisian,Ацав...           AM  AM.08  \n",
       "97  Artachat,Artasat,Artasatas,Artasato,Artaschat,...           AM  AM.02  \n",
       "98  Ararat,Araratas,Ararato,Davalinskiy Tsemzavod,...           AM  AM.02  "
      ]
     },
     "execution_count": 35,
     "metadata": {},
     "output_type": "execute_result"
    }
   ],
   "source": [
    "df3.head()"
   ]
  },
  {
   "cell_type": "code",
   "execution_count": 36,
   "id": "fe94ebf5",
   "metadata": {},
   "outputs": [
    {
     "data": {
      "text/plain": [
       "(1267, 6)"
      ]
     },
     "execution_count": 36,
     "metadata": {},
     "output_type": "execute_result"
    }
   ],
   "source": [
    "df3.shape"
   ]
  },
  {
   "cell_type": "code",
   "execution_count": 37,
   "id": "a590e0eb",
   "metadata": {},
   "outputs": [],
   "source": [
    "df3.alternate_names = df3.alternate_names.str.split(',')\n",
    "df3 = df3.explode('alternate_names')\n",
    "df3 = df3.drop_duplicates(subset=['name','alternate_names'])"
   ]
  },
  {
   "cell_type": "code",
   "execution_count": 38,
   "id": "ad859c66",
   "metadata": {},
   "outputs": [],
   "source": [
    "df3 = df3[df3.name!=df3.alternate_names]"
   ]
  },
  {
   "cell_type": "code",
   "execution_count": 39,
   "id": "582a53d5",
   "metadata": {},
   "outputs": [
    {
     "data": {
      "text/plain": [
       "(17854, 6)"
      ]
     },
     "execution_count": 39,
     "metadata": {},
     "output_type": "execute_result"
    }
   ],
   "source": [
    "df3.shape"
   ]
  },
  {
   "cell_type": "code",
   "execution_count": 40,
   "id": "e608dfa4",
   "metadata": {},
   "outputs": [],
   "source": [
    "train_examples = []\n",
    "for row in df3[:10].itertuples():\n",
    "    train_examples.append(InputExample(texts=[row.name, row.alternate_names]))"
   ]
  },
  {
   "cell_type": "code",
   "execution_count": 41,
   "id": "9f9be543",
   "metadata": {},
   "outputs": [
    {
     "data": {
      "text/plain": [
       "[<sentence_transformers.readers.InputExample.InputExample at 0x256060b2340>,\n",
       " <sentence_transformers.readers.InputExample.InputExample at 0x256060b2490>,\n",
       " <sentence_transformers.readers.InputExample.InputExample at 0x256060b2af0>,\n",
       " <sentence_transformers.readers.InputExample.InputExample at 0x256060b2970>,\n",
       " <sentence_transformers.readers.InputExample.InputExample at 0x256060b21f0>,\n",
       " <sentence_transformers.readers.InputExample.InputExample at 0x256611f27f0>,\n",
       " <sentence_transformers.readers.InputExample.InputExample at 0x25669f4aa60>,\n",
       " <sentence_transformers.readers.InputExample.InputExample at 0x25669f4a730>,\n",
       " <sentence_transformers.readers.InputExample.InputExample at 0x25669f4a550>,\n",
       " <sentence_transformers.readers.InputExample.InputExample at 0x25669f4ab20>]"
      ]
     },
     "execution_count": 41,
     "metadata": {},
     "output_type": "execute_result"
    }
   ],
   "source": [
    "train_examples"
   ]
  },
  {
   "cell_type": "code",
   "execution_count": 42,
   "id": "72f5c934",
   "metadata": {},
   "outputs": [],
   "source": [
    "train_dataloder = DataLoader(train_examples, shuffle=True, batch_size=16)\n",
    "train_loss = losses.MultipleNegativesRankingLoss(model=model)"
   ]
  },
  {
   "cell_type": "markdown",
   "id": "4c85f4c0",
   "metadata": {},
   "source": [
    "Обучение модели на 5 эпохах:"
   ]
  },
  {
   "cell_type": "code",
   "execution_count": 43,
   "id": "9290928f",
   "metadata": {},
   "outputs": [
    {
     "data": {
      "application/vnd.jupyter.widget-view+json": {
       "model_id": "7abd53de690e49238272279ef802552f",
       "version_major": 2,
       "version_minor": 0
      },
      "text/plain": [
       "Epoch:   0%|          | 0/5 [00:00<?, ?it/s]"
      ]
     },
     "metadata": {},
     "output_type": "display_data"
    },
    {
     "data": {
      "application/vnd.jupyter.widget-view+json": {
       "model_id": "942cd2a357d142829cb4301e48760e5b",
       "version_major": 2,
       "version_minor": 0
      },
      "text/plain": [
       "Iteration:   0%|          | 0/1 [00:00<?, ?it/s]"
      ]
     },
     "metadata": {},
     "output_type": "display_data"
    },
    {
     "data": {
      "application/vnd.jupyter.widget-view+json": {
       "model_id": "c66b386d99ea47cea62f8335038d29cb",
       "version_major": 2,
       "version_minor": 0
      },
      "text/plain": [
       "Iteration:   0%|          | 0/1 [00:00<?, ?it/s]"
      ]
     },
     "metadata": {},
     "output_type": "display_data"
    },
    {
     "data": {
      "application/vnd.jupyter.widget-view+json": {
       "model_id": "330c929a959a4d14908f8afc7459a1e7",
       "version_major": 2,
       "version_minor": 0
      },
      "text/plain": [
       "Iteration:   0%|          | 0/1 [00:00<?, ?it/s]"
      ]
     },
     "metadata": {},
     "output_type": "display_data"
    },
    {
     "data": {
      "application/vnd.jupyter.widget-view+json": {
       "model_id": "e4a01aa7f7924929a1b5c1354d4c1204",
       "version_major": 2,
       "version_minor": 0
      },
      "text/plain": [
       "Iteration:   0%|          | 0/1 [00:00<?, ?it/s]"
      ]
     },
     "metadata": {},
     "output_type": "display_data"
    },
    {
     "data": {
      "application/vnd.jupyter.widget-view+json": {
       "model_id": "4bc9f5a2e2fc4f0b813946f799965d56",
       "version_major": 2,
       "version_minor": 0
      },
      "text/plain": [
       "Iteration:   0%|          | 0/1 [00:00<?, ?it/s]"
      ]
     },
     "metadata": {},
     "output_type": "display_data"
    }
   ],
   "source": [
    "model.fit(train_objectives=[(train_dataloder, train_loss)], epochs=5)"
   ]
  },
  {
   "cell_type": "code",
   "execution_count": 44,
   "id": "36dcf2e2",
   "metadata": {},
   "outputs": [
    {
     "data": {
      "text/plain": [
       "array(['Kapan', 'Goris', 'Hats’avan', 'Artashat', 'Ararat', 'Yerevan',\n",
       "       'Vagharshapat', 'Stepanavan', 'Spitak', 'Sevan'], dtype=object)"
      ]
     },
     "execution_count": 44,
     "metadata": {},
     "output_type": "execute_result"
    }
   ],
   "source": [
    "names = df3.name.drop_duplicates().values\n",
    "names[:10]"
   ]
  },
  {
   "cell_type": "code",
   "execution_count": 45,
   "id": "6260e865",
   "metadata": {},
   "outputs": [
    {
     "data": {
      "text/plain": [
       "(1247, 768)"
      ]
     },
     "execution_count": 45,
     "metadata": {},
     "output_type": "execute_result"
    }
   ],
   "source": [
    "embedding_model = model.encode(names)\n",
    "embedding_model.shape"
   ]
  },
  {
   "cell_type": "code",
   "execution_count": 46,
   "id": "bbde77fe",
   "metadata": {},
   "outputs": [],
   "source": [
    "def get_sim(geoname, names=names, embedding=embedding_model, model=model, top_k=3):\n",
    "    result =pd.DataFrame(util.semantic_search(model.encode(geoname), embedding_model, top_k=top_k)[0])\n",
    "    return result.assign(name=names[result.corpus_id])"
   ]
  },
  {
   "cell_type": "code",
   "execution_count": 47,
   "id": "cbed3464",
   "metadata": {},
   "outputs": [
    {
     "data": {
      "text/html": [
       "<div>\n",
       "<style scoped>\n",
       "    .dataframe tbody tr th:only-of-type {\n",
       "        vertical-align: middle;\n",
       "    }\n",
       "\n",
       "    .dataframe tbody tr th {\n",
       "        vertical-align: top;\n",
       "    }\n",
       "\n",
       "    .dataframe thead th {\n",
       "        text-align: right;\n",
       "    }\n",
       "</style>\n",
       "<table border=\"1\" class=\"dataframe\">\n",
       "  <thead>\n",
       "    <tr style=\"text-align: right;\">\n",
       "      <th></th>\n",
       "      <th>corpus_id</th>\n",
       "      <th>score</th>\n",
       "      <th>name</th>\n",
       "    </tr>\n",
       "  </thead>\n",
       "  <tbody>\n",
       "    <tr>\n",
       "      <th>0</th>\n",
       "      <td>763</td>\n",
       "      <td>0.634947</td>\n",
       "      <td>Ivanovo</td>\n",
       "    </tr>\n",
       "    <tr>\n",
       "      <th>1</th>\n",
       "      <td>5</td>\n",
       "      <td>0.620656</td>\n",
       "      <td>Yerevan</td>\n",
       "    </tr>\n",
       "    <tr>\n",
       "      <th>2</th>\n",
       "      <td>1025</td>\n",
       "      <td>0.566276</td>\n",
       "      <td>Nyagan</td>\n",
       "    </tr>\n",
       "  </tbody>\n",
       "</table>\n",
       "</div>"
      ],
      "text/plain": [
       "   corpus_id     score     name\n",
       "0        763  0.634947  Ivanovo\n",
       "1          5  0.620656  Yerevan\n",
       "2       1025  0.566276   Nyagan"
      ]
     },
     "execution_count": 47,
     "metadata": {},
     "output_type": "execute_result"
    }
   ],
   "source": [
    "get_sim('иван')"
   ]
  },
  {
   "cell_type": "markdown",
   "id": "dafaebea",
   "metadata": {},
   "source": [
    "## Вывод:\n",
    "\n",
    "Полученная модель работает, но явного улычшения не видно. Модель LaBSE - отлично справляется и может быть предложана заказчику как окончательный продукт."
   ]
  },
  {
   "cell_type": "code",
   "execution_count": null,
   "id": "b6acb0a7",
   "metadata": {},
   "outputs": [],
   "source": []
  }
 ],
 "metadata": {
  "kernelspec": {
   "display_name": "Python 3 (ipykernel)",
   "language": "python",
   "name": "python3"
  },
  "language_info": {
   "codemirror_mode": {
    "name": "ipython",
    "version": 3
   },
   "file_extension": ".py",
   "mimetype": "text/x-python",
   "name": "python",
   "nbconvert_exporter": "python",
   "pygments_lexer": "ipython3",
   "version": "3.9.12"
  }
 },
 "nbformat": 4,
 "nbformat_minor": 5
}
